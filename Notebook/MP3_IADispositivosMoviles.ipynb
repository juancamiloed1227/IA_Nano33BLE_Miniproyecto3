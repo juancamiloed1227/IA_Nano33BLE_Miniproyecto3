{
  "cells": [
    {
      "cell_type": "code",
      "execution_count": 5,
      "metadata": {
        "id": "wbMc4vHjaYdQ",
        "colab": {
          "base_uri": "https://localhost:8080/"
        },
        "outputId": "59ddf635-3a24-4bb9-dabd-ea02ba2a76eb"
      },
      "outputs": [
        {
          "output_type": "stream",
          "name": "stdout",
          "text": [
            "Reading package lists... Done\n",
            "Building dependency tree       \n",
            "Reading state information... Done\n",
            "libportaudio2 is already the newest version (19.6.0-1).\n",
            "The following package was automatically installed and is no longer required:\n",
            "  libnvidia-common-460\n",
            "Use 'sudo apt autoremove' to remove it.\n",
            "0 upgraded, 0 newly installed, 0 to remove and 42 not upgraded.\n",
            "Looking in indexes: https://pypi.org/simple, https://us-python.pkg.dev/colab-wheels/public/simple/\n",
            "Requirement already satisfied: tflite-model-maker in /usr/local/lib/python3.7/dist-packages (0.4.0)\n",
            "Requirement already satisfied: tensorflow>=2.6.0 in /usr/local/lib/python3.7/dist-packages (from tflite-model-maker) (2.8.0+zzzcolab20220506162203)\n",
            "Requirement already satisfied: absl-py>=0.10.0 in /usr/local/lib/python3.7/dist-packages (from tflite-model-maker) (1.0.0)\n",
            "Requirement already satisfied: tensorflow-addons>=0.11.2 in /usr/local/lib/python3.7/dist-packages (from tflite-model-maker) (0.17.0)\n",
            "Requirement already satisfied: sentencepiece>=0.1.91 in /usr/local/lib/python3.7/dist-packages (from tflite-model-maker) (0.1.96)\n",
            "Requirement already satisfied: matplotlib<3.5.0,>=3.0.3 in /usr/local/lib/python3.7/dist-packages (from tflite-model-maker) (3.2.2)\n",
            "Requirement already satisfied: tensorflow-model-optimization>=0.5 in /usr/local/lib/python3.7/dist-packages (from tflite-model-maker) (0.7.2)\n",
            "Requirement already satisfied: pillow>=7.0.0 in /usr/local/lib/python3.7/dist-packages (from tflite-model-maker) (7.1.2)\n",
            "Requirement already satisfied: scann>=1.2.6 in /usr/local/lib/python3.7/dist-packages (from tflite-model-maker) (1.2.6)\n",
            "Requirement already satisfied: numba==0.53 in /usr/local/lib/python3.7/dist-packages (from tflite-model-maker) (0.53.0)\n",
            "Requirement already satisfied: six>=1.12.0 in /usr/local/lib/python3.7/dist-packages (from tflite-model-maker) (1.15.0)\n",
            "Requirement already satisfied: tensorflow-datasets>=2.1.0 in /usr/local/lib/python3.7/dist-packages (from tflite-model-maker) (4.0.1)\n",
            "Requirement already satisfied: librosa==0.8.1 in /usr/local/lib/python3.7/dist-packages (from tflite-model-maker) (0.8.1)\n",
            "Requirement already satisfied: PyYAML>=5.1 in /usr/local/lib/python3.7/dist-packages (from tflite-model-maker) (6.0)\n",
            "Requirement already satisfied: urllib3!=1.25.0,!=1.25.1,<1.26,>=1.21.1 in /usr/local/lib/python3.7/dist-packages (from tflite-model-maker) (1.24.3)\n",
            "Requirement already satisfied: Cython>=0.29.13 in /usr/local/lib/python3.7/dist-packages (from tflite-model-maker) (0.29.30)\n",
            "Requirement already satisfied: tflite-support>=0.4.0 in /usr/local/lib/python3.7/dist-packages (from tflite-model-maker) (0.4.0)\n",
            "Requirement already satisfied: numpy>=1.17.3 in /usr/local/lib/python3.7/dist-packages (from tflite-model-maker) (1.21.6)\n",
            "Requirement already satisfied: tf-models-official==2.3.0 in /usr/local/lib/python3.7/dist-packages (from tflite-model-maker) (2.3.0)\n",
            "Requirement already satisfied: fire>=0.3.1 in /usr/local/lib/python3.7/dist-packages (from tflite-model-maker) (0.4.0)\n",
            "Requirement already satisfied: tensorflowjs>=2.4.0 in /usr/local/lib/python3.7/dist-packages (from tflite-model-maker) (3.18.0)\n",
            "Requirement already satisfied: neural-structured-learning>=1.3.1 in /usr/local/lib/python3.7/dist-packages (from tflite-model-maker) (1.3.1)\n",
            "Requirement already satisfied: tensorflow-hub<0.13,>=0.7.0 in /usr/local/lib/python3.7/dist-packages (from tflite-model-maker) (0.12.0)\n",
            "Requirement already satisfied: lxml>=4.6.1 in /usr/local/lib/python3.7/dist-packages (from tflite-model-maker) (4.8.0)\n",
            "Requirement already satisfied: flatbuffers==1.12 in /usr/local/lib/python3.7/dist-packages (from tflite-model-maker) (1.12)\n",
            "Requirement already satisfied: soundfile>=0.10.2 in /usr/local/lib/python3.7/dist-packages (from librosa==0.8.1->tflite-model-maker) (0.10.3.post1)\n",
            "Requirement already satisfied: scikit-learn!=0.19.0,>=0.14.0 in /usr/local/lib/python3.7/dist-packages (from librosa==0.8.1->tflite-model-maker) (1.0.2)\n",
            "Requirement already satisfied: packaging>=20.0 in /usr/local/lib/python3.7/dist-packages (from librosa==0.8.1->tflite-model-maker) (20.9)\n",
            "Requirement already satisfied: scipy>=1.0.0 in /usr/local/lib/python3.7/dist-packages (from librosa==0.8.1->tflite-model-maker) (1.4.1)\n",
            "Requirement already satisfied: joblib>=0.14 in /usr/local/lib/python3.7/dist-packages (from librosa==0.8.1->tflite-model-maker) (1.1.0)\n",
            "Requirement already satisfied: audioread>=2.0.0 in /usr/local/lib/python3.7/dist-packages (from librosa==0.8.1->tflite-model-maker) (2.1.9)\n",
            "Requirement already satisfied: decorator>=3.0.0 in /usr/local/lib/python3.7/dist-packages (from librosa==0.8.1->tflite-model-maker) (4.4.2)\n",
            "Requirement already satisfied: pooch>=1.0 in /usr/local/lib/python3.7/dist-packages (from librosa==0.8.1->tflite-model-maker) (1.6.0)\n",
            "Requirement already satisfied: resampy>=0.2.2 in /usr/local/lib/python3.7/dist-packages (from librosa==0.8.1->tflite-model-maker) (0.2.2)\n",
            "Requirement already satisfied: llvmlite<0.37,>=0.36.0rc1 in /usr/local/lib/python3.7/dist-packages (from numba==0.53->tflite-model-maker) (0.36.0)\n",
            "Requirement already satisfied: setuptools in /usr/local/lib/python3.7/dist-packages (from numba==0.53->tflite-model-maker) (57.4.0)\n",
            "Requirement already satisfied: gin-config in /usr/local/lib/python3.7/dist-packages (from tf-models-official==2.3.0->tflite-model-maker) (0.5.0)\n",
            "Requirement already satisfied: kaggle>=1.3.9 in /usr/local/lib/python3.7/dist-packages (from tf-models-official==2.3.0->tflite-model-maker) (1.5.12)\n",
            "Requirement already satisfied: google-api-python-client>=1.6.7 in /usr/local/lib/python3.7/dist-packages (from tf-models-official==2.3.0->tflite-model-maker) (1.12.11)\n",
            "Requirement already satisfied: opencv-python-headless in /usr/local/lib/python3.7/dist-packages (from tf-models-official==2.3.0->tflite-model-maker) (4.5.5.64)\n",
            "Requirement already satisfied: dataclasses in /usr/local/lib/python3.7/dist-packages (from tf-models-official==2.3.0->tflite-model-maker) (0.6)\n",
            "Requirement already satisfied: google-cloud-bigquery>=0.31.0 in /usr/local/lib/python3.7/dist-packages (from tf-models-official==2.3.0->tflite-model-maker) (1.21.0)\n",
            "Requirement already satisfied: py-cpuinfo>=3.3.0 in /usr/local/lib/python3.7/dist-packages (from tf-models-official==2.3.0->tflite-model-maker) (8.0.0)\n",
            "Requirement already satisfied: psutil>=5.4.3 in /usr/local/lib/python3.7/dist-packages (from tf-models-official==2.3.0->tflite-model-maker) (5.4.8)\n",
            "Requirement already satisfied: tf-slim>=1.1.0 in /usr/local/lib/python3.7/dist-packages (from tf-models-official==2.3.0->tflite-model-maker) (1.1.0)\n",
            "Requirement already satisfied: pandas>=0.22.0 in /usr/local/lib/python3.7/dist-packages (from tf-models-official==2.3.0->tflite-model-maker) (1.3.5)\n",
            "Requirement already satisfied: termcolor in /usr/local/lib/python3.7/dist-packages (from fire>=0.3.1->tflite-model-maker) (1.1.0)\n",
            "Requirement already satisfied: google-auth<3dev,>=1.16.0 in /usr/local/lib/python3.7/dist-packages (from google-api-python-client>=1.6.7->tf-models-official==2.3.0->tflite-model-maker) (1.35.0)\n",
            "Requirement already satisfied: uritemplate<4dev,>=3.0.0 in /usr/local/lib/python3.7/dist-packages (from google-api-python-client>=1.6.7->tf-models-official==2.3.0->tflite-model-maker) (3.0.1)\n",
            "Requirement already satisfied: google-api-core<3dev,>=1.21.0 in /usr/local/lib/python3.7/dist-packages (from google-api-python-client>=1.6.7->tf-models-official==2.3.0->tflite-model-maker) (1.31.5)\n",
            "Requirement already satisfied: httplib2<1dev,>=0.15.0 in /usr/local/lib/python3.7/dist-packages (from google-api-python-client>=1.6.7->tf-models-official==2.3.0->tflite-model-maker) (0.17.4)\n",
            "Requirement already satisfied: google-auth-httplib2>=0.0.3 in /usr/local/lib/python3.7/dist-packages (from google-api-python-client>=1.6.7->tf-models-official==2.3.0->tflite-model-maker) (0.0.4)\n",
            "Requirement already satisfied: pytz in /usr/local/lib/python3.7/dist-packages (from google-api-core<3dev,>=1.21.0->google-api-python-client>=1.6.7->tf-models-official==2.3.0->tflite-model-maker) (2022.1)\n",
            "Requirement already satisfied: requests<3.0.0dev,>=2.18.0 in /usr/local/lib/python3.7/dist-packages (from google-api-core<3dev,>=1.21.0->google-api-python-client>=1.6.7->tf-models-official==2.3.0->tflite-model-maker) (2.23.0)\n",
            "Requirement already satisfied: googleapis-common-protos<2.0dev,>=1.6.0 in /usr/local/lib/python3.7/dist-packages (from google-api-core<3dev,>=1.21.0->google-api-python-client>=1.6.7->tf-models-official==2.3.0->tflite-model-maker) (1.56.1)\n",
            "Requirement already satisfied: protobuf>=3.12.0 in /usr/local/lib/python3.7/dist-packages (from google-api-core<3dev,>=1.21.0->google-api-python-client>=1.6.7->tf-models-official==2.3.0->tflite-model-maker) (3.20.1)\n",
            "Requirement already satisfied: rsa<5,>=3.1.4 in /usr/local/lib/python3.7/dist-packages (from google-auth<3dev,>=1.16.0->google-api-python-client>=1.6.7->tf-models-official==2.3.0->tflite-model-maker) (4.8)\n",
            "Requirement already satisfied: cachetools<5.0,>=2.0.0 in /usr/local/lib/python3.7/dist-packages (from google-auth<3dev,>=1.16.0->google-api-python-client>=1.6.7->tf-models-official==2.3.0->tflite-model-maker) (4.2.4)\n",
            "Requirement already satisfied: pyasn1-modules>=0.2.1 in /usr/local/lib/python3.7/dist-packages (from google-auth<3dev,>=1.16.0->google-api-python-client>=1.6.7->tf-models-official==2.3.0->tflite-model-maker) (0.2.8)\n",
            "Requirement already satisfied: google-resumable-media!=0.4.0,<0.5.0dev,>=0.3.1 in /usr/local/lib/python3.7/dist-packages (from google-cloud-bigquery>=0.31.0->tf-models-official==2.3.0->tflite-model-maker) (0.4.1)\n",
            "Requirement already satisfied: google-cloud-core<2.0dev,>=1.0.3 in /usr/local/lib/python3.7/dist-packages (from google-cloud-bigquery>=0.31.0->tf-models-official==2.3.0->tflite-model-maker) (1.0.3)\n",
            "Requirement already satisfied: python-dateutil in /usr/local/lib/python3.7/dist-packages (from kaggle>=1.3.9->tf-models-official==2.3.0->tflite-model-maker) (2.8.2)\n",
            "Requirement already satisfied: tqdm in /usr/local/lib/python3.7/dist-packages (from kaggle>=1.3.9->tf-models-official==2.3.0->tflite-model-maker) (4.64.0)\n",
            "Requirement already satisfied: python-slugify in /usr/local/lib/python3.7/dist-packages (from kaggle>=1.3.9->tf-models-official==2.3.0->tflite-model-maker) (6.1.2)\n",
            "Requirement already satisfied: certifi in /usr/local/lib/python3.7/dist-packages (from kaggle>=1.3.9->tf-models-official==2.3.0->tflite-model-maker) (2022.5.18.1)\n",
            "Requirement already satisfied: pyparsing!=2.0.4,!=2.1.2,!=2.1.6,>=2.0.1 in /usr/local/lib/python3.7/dist-packages (from matplotlib<3.5.0,>=3.0.3->tflite-model-maker) (3.0.9)\n",
            "Requirement already satisfied: cycler>=0.10 in /usr/local/lib/python3.7/dist-packages (from matplotlib<3.5.0,>=3.0.3->tflite-model-maker) (0.11.0)\n",
            "Requirement already satisfied: kiwisolver>=1.0.1 in /usr/local/lib/python3.7/dist-packages (from matplotlib<3.5.0,>=3.0.3->tflite-model-maker) (1.4.2)\n",
            "Requirement already satisfied: typing-extensions in /usr/local/lib/python3.7/dist-packages (from kiwisolver>=1.0.1->matplotlib<3.5.0,>=3.0.3->tflite-model-maker) (4.2.0)\n",
            "Requirement already satisfied: attrs in /usr/local/lib/python3.7/dist-packages (from neural-structured-learning>=1.3.1->tflite-model-maker) (21.4.0)\n",
            "Requirement already satisfied: appdirs>=1.3.0 in /usr/local/lib/python3.7/dist-packages (from pooch>=1.0->librosa==0.8.1->tflite-model-maker) (1.4.4)\n",
            "Requirement already satisfied: pyasn1<0.5.0,>=0.4.6 in /usr/local/lib/python3.7/dist-packages (from pyasn1-modules>=0.2.1->google-auth<3dev,>=1.16.0->google-api-python-client>=1.6.7->tf-models-official==2.3.0->tflite-model-maker) (0.4.8)\n",
            "Requirement already satisfied: idna<3,>=2.5 in /usr/local/lib/python3.7/dist-packages (from requests<3.0.0dev,>=2.18.0->google-api-core<3dev,>=1.21.0->google-api-python-client>=1.6.7->tf-models-official==2.3.0->tflite-model-maker) (2.10)\n",
            "Requirement already satisfied: chardet<4,>=3.0.2 in /usr/local/lib/python3.7/dist-packages (from requests<3.0.0dev,>=2.18.0->google-api-core<3dev,>=1.21.0->google-api-python-client>=1.6.7->tf-models-official==2.3.0->tflite-model-maker) (3.0.4)\n",
            "Requirement already satisfied: threadpoolctl>=2.0.0 in /usr/local/lib/python3.7/dist-packages (from scikit-learn!=0.19.0,>=0.14.0->librosa==0.8.1->tflite-model-maker) (3.1.0)\n",
            "Requirement already satisfied: cffi>=1.0 in /usr/local/lib/python3.7/dist-packages (from soundfile>=0.10.2->librosa==0.8.1->tflite-model-maker) (1.15.0)\n",
            "Requirement already satisfied: pycparser in /usr/local/lib/python3.7/dist-packages (from cffi>=1.0->soundfile>=0.10.2->librosa==0.8.1->tflite-model-maker) (2.21)\n",
            "Requirement already satisfied: astunparse>=1.6.0 in /usr/local/lib/python3.7/dist-packages (from tensorflow>=2.6.0->tflite-model-maker) (1.6.3)\n",
            "Requirement already satisfied: libclang>=9.0.1 in /usr/local/lib/python3.7/dist-packages (from tensorflow>=2.6.0->tflite-model-maker) (14.0.1)\n",
            "Requirement already satisfied: tensorflow-io-gcs-filesystem>=0.23.1 in /usr/local/lib/python3.7/dist-packages (from tensorflow>=2.6.0->tflite-model-maker) (0.26.0)\n",
            "Requirement already satisfied: gast>=0.2.1 in /usr/local/lib/python3.7/dist-packages (from tensorflow>=2.6.0->tflite-model-maker) (0.5.3)\n",
            "Requirement already satisfied: h5py>=2.9.0 in /usr/local/lib/python3.7/dist-packages (from tensorflow>=2.6.0->tflite-model-maker) (3.1.0)\n",
            "Requirement already satisfied: keras<2.9,>=2.8.0rc0 in /usr/local/lib/python3.7/dist-packages (from tensorflow>=2.6.0->tflite-model-maker) (2.8.0)\n",
            "Requirement already satisfied: tf-estimator-nightly==2.8.0.dev2021122109 in /usr/local/lib/python3.7/dist-packages (from tensorflow>=2.6.0->tflite-model-maker) (2.8.0.dev2021122109)\n",
            "Requirement already satisfied: opt-einsum>=2.3.2 in /usr/local/lib/python3.7/dist-packages (from tensorflow>=2.6.0->tflite-model-maker) (3.3.0)\n",
            "Requirement already satisfied: google-pasta>=0.1.1 in /usr/local/lib/python3.7/dist-packages (from tensorflow>=2.6.0->tflite-model-maker) (0.2.0)\n",
            "Requirement already satisfied: wrapt>=1.11.0 in /usr/local/lib/python3.7/dist-packages (from tensorflow>=2.6.0->tflite-model-maker) (1.14.1)\n",
            "Requirement already satisfied: grpcio<2.0,>=1.24.3 in /usr/local/lib/python3.7/dist-packages (from tensorflow>=2.6.0->tflite-model-maker) (1.46.1)\n",
            "Requirement already satisfied: tensorboard<2.9,>=2.8 in /usr/local/lib/python3.7/dist-packages (from tensorflow>=2.6.0->tflite-model-maker) (2.8.0)\n",
            "Requirement already satisfied: keras-preprocessing>=1.1.1 in /usr/local/lib/python3.7/dist-packages (from tensorflow>=2.6.0->tflite-model-maker) (1.1.2)\n",
            "Requirement already satisfied: wheel<1.0,>=0.23.0 in /usr/local/lib/python3.7/dist-packages (from astunparse>=1.6.0->tensorflow>=2.6.0->tflite-model-maker) (0.37.1)\n",
            "Requirement already satisfied: cached-property in /usr/local/lib/python3.7/dist-packages (from h5py>=2.9.0->tensorflow>=2.6.0->tflite-model-maker) (1.5.2)\n",
            "Requirement already satisfied: google-auth-oauthlib<0.5,>=0.4.1 in /usr/local/lib/python3.7/dist-packages (from tensorboard<2.9,>=2.8->tensorflow>=2.6.0->tflite-model-maker) (0.4.6)\n",
            "Requirement already satisfied: tensorboard-data-server<0.7.0,>=0.6.0 in /usr/local/lib/python3.7/dist-packages (from tensorboard<2.9,>=2.8->tensorflow>=2.6.0->tflite-model-maker) (0.6.1)\n",
            "Requirement already satisfied: markdown>=2.6.8 in /usr/local/lib/python3.7/dist-packages (from tensorboard<2.9,>=2.8->tensorflow>=2.6.0->tflite-model-maker) (3.3.7)\n",
            "Requirement already satisfied: tensorboard-plugin-wit>=1.6.0 in /usr/local/lib/python3.7/dist-packages (from tensorboard<2.9,>=2.8->tensorflow>=2.6.0->tflite-model-maker) (1.8.1)\n",
            "Requirement already satisfied: werkzeug>=0.11.15 in /usr/local/lib/python3.7/dist-packages (from tensorboard<2.9,>=2.8->tensorflow>=2.6.0->tflite-model-maker) (1.0.1)\n",
            "Requirement already satisfied: requests-oauthlib>=0.7.0 in /usr/local/lib/python3.7/dist-packages (from google-auth-oauthlib<0.5,>=0.4.1->tensorboard<2.9,>=2.8->tensorflow>=2.6.0->tflite-model-maker) (1.3.1)\n",
            "Requirement already satisfied: importlib-metadata>=4.4 in /usr/local/lib/python3.7/dist-packages (from markdown>=2.6.8->tensorboard<2.9,>=2.8->tensorflow>=2.6.0->tflite-model-maker) (4.11.3)\n",
            "Requirement already satisfied: zipp>=0.5 in /usr/local/lib/python3.7/dist-packages (from importlib-metadata>=4.4->markdown>=2.6.8->tensorboard<2.9,>=2.8->tensorflow>=2.6.0->tflite-model-maker) (3.8.0)\n",
            "Requirement already satisfied: oauthlib>=3.0.0 in /usr/local/lib/python3.7/dist-packages (from requests-oauthlib>=0.7.0->google-auth-oauthlib<0.5,>=0.4.1->tensorboard<2.9,>=2.8->tensorflow>=2.6.0->tflite-model-maker) (3.2.0)\n",
            "Requirement already satisfied: typeguard>=2.7 in /usr/local/lib/python3.7/dist-packages (from tensorflow-addons>=0.11.2->tflite-model-maker) (2.7.1)\n",
            "Requirement already satisfied: dm-tree in /usr/local/lib/python3.7/dist-packages (from tensorflow-datasets>=2.1.0->tflite-model-maker) (0.1.7)\n",
            "Requirement already satisfied: future in /usr/local/lib/python3.7/dist-packages (from tensorflow-datasets>=2.1.0->tflite-model-maker) (0.16.0)\n",
            "Requirement already satisfied: promise in /usr/local/lib/python3.7/dist-packages (from tensorflow-datasets>=2.1.0->tflite-model-maker) (2.3)\n",
            "Requirement already satisfied: importlib-resources in /usr/local/lib/python3.7/dist-packages (from tensorflow-datasets>=2.1.0->tflite-model-maker) (5.7.1)\n",
            "Requirement already satisfied: dill in /usr/local/lib/python3.7/dist-packages (from tensorflow-datasets>=2.1.0->tflite-model-maker) (0.3.5.1)\n",
            "Requirement already satisfied: tensorflow-metadata in /usr/local/lib/python3.7/dist-packages (from tensorflow-datasets>=2.1.0->tflite-model-maker) (1.8.0)\n",
            "Requirement already satisfied: pybind11>=2.6.0 in /usr/local/lib/python3.7/dist-packages (from tflite-support>=0.4.0->tflite-model-maker) (2.9.2)\n",
            "Requirement already satisfied: sounddevice>=0.4.4 in /usr/local/lib/python3.7/dist-packages (from tflite-support>=0.4.0->tflite-model-maker) (0.4.4)\n",
            "Requirement already satisfied: text-unidecode>=1.3 in /usr/local/lib/python3.7/dist-packages (from python-slugify->kaggle>=1.3.9->tf-models-official==2.3.0->tflite-model-maker) (1.3)\n"
          ]
        }
      ],
      "source": [
        "#Instalar dependencias necesarias para el procesamiento de Audio\n",
        "!sudo apt -y install libportaudio2\n",
        "!pip install tflite-model-maker"
      ]
    },
    {
      "cell_type": "code",
      "execution_count": 6,
      "metadata": {
        "id": "rwUA9u4oWoCR"
      },
      "outputs": [],
      "source": [
        "#Instalar dependencias necesarias para el desarrollo del modelo\n",
        "import os\n",
        "import glob\n",
        "import random\n",
        "import shutil\n",
        "\n",
        "import librosa\n",
        "import soundfile as sf\n",
        "from IPython.display import Audio\n",
        "import numpy as np\n",
        "import matplotlib.pyplot as plt\n",
        "import seaborn as sns\n",
        "\n",
        "import tensorflow as tf\n",
        "import tflite_model_maker as mm\n",
        "from tflite_model_maker import audio_classifier\n",
        "from tflite_model_maker.config import ExportFormat"
      ]
    },
    {
      "cell_type": "code",
      "execution_count": 7,
      "metadata": {
        "id": "AK9o98X7qyhU"
      },
      "outputs": [],
      "source": [
        "#Definir variable para usar dataset personalizado\n",
        "use_custom_dataset = True"
      ]
    },
    {
      "cell_type": "code",
      "execution_count": 8,
      "metadata": {
        "id": "qvJd9VfmHu29",
        "colab": {
          "base_uri": "https://localhost:8080/",
          "height": 167
        },
        "outputId": "480f72f4-db75-45cf-a5cd-1938ec865b6c"
      },
      "outputs": [
        {
          "output_type": "stream",
          "name": "stdout",
          "text": [
            "Downloading data from http://download.tensorflow.org/data/speech_commands_v0.01.tar.gz\n",
            "1489100800/1489096277 [==============================] - 11s 0us/step\n",
            "1489108992/1489096277 [==============================] - 11s 0us/step\n",
            "Downloading data from https://storage.googleapis.com/download.tensorflow.org/models/tflite/sound_classification/background_audio.zip\n",
            "1073152/1072437 [==============================] - 0s 0us/step\n",
            "1081344/1072437 [==============================] - 0s 0us/step\n"
          ]
        },
        {
          "output_type": "execute_result",
          "data": {
            "text/plain": [
              "'./dataset-background/background_audio.zip'"
            ],
            "application/vnd.google.colaboratory.intrinsic+json": {
              "type": "string"
            }
          },
          "metadata": {},
          "execution_count": 8
        }
      ],
      "source": [
        "#Obtener datasets de ruido de fondo para lograr una mejor distincion de las palabras\n",
        "tf.keras.utils.get_file('speech_commands_v0.01.tar.gz',\n",
        "                        'http://download.tensorflow.org/data/speech_commands_v0.01.tar.gz',\n",
        "                        cache_dir='./',\n",
        "                        cache_subdir='dataset-speech',\n",
        "                        extract=True)\n",
        "tf.keras.utils.get_file('background_audio.zip',\n",
        "                        'https://storage.googleapis.com/download.tensorflow.org/models/tflite/sound_classification/background_audio.zip',\n",
        "                        cache_dir='./',\n",
        "                        cache_subdir='dataset-background',\n",
        "                        extract=True)\n"
      ]
    },
    {
      "cell_type": "code",
      "execution_count": 9,
      "metadata": {
        "id": "xgwWNifGL-3b",
        "colab": {
          "base_uri": "https://localhost:8080/"
        },
        "outputId": "11c971ac-1d66-4125-971b-2b63b06e4655"
      },
      "outputs": [
        {
          "output_type": "stream",
          "name": "stdout",
          "text": [
            "Splitting doing_the_dishes.wav\n",
            "Splitting white_noise.wav\n",
            "Splitting pink_noise.wav\n",
            "Splitting dude_miaowing.wav\n",
            "Splitting exercise_bike.wav\n",
            "Splitting running_tap.wav\n",
            "Splitting throat_clearing.wav\n",
            "Splitting silence.wav\n"
          ]
        }
      ],
      "source": [
        "#Crear una lista de todos los archivos de ruido de fondo\n",
        "files = glob.glob(os.path.join('./dataset-speech/_background_noise_', '*.wav'))\n",
        "files = files + glob.glob(os.path.join('./dataset-background', '*.wav'))\n",
        "\n",
        "background_dir = './background'\n",
        "os.makedirs(background_dir, exist_ok=True)\n",
        "\n",
        "# Ciclo para iterar sobre todos los archivos de ruido de fondo y hacer split en muestras de 1 segundo\n",
        "for file in files:\n",
        "  filename = os.path.basename(os.path.normpath(file))\n",
        "  print('Splitting', filename)\n",
        "  name = os.path.splitext(filename)[0]\n",
        "  rate = librosa.get_samplerate(file)\n",
        "  length = round(librosa.get_duration(filename=file))\n",
        "  for i in range(length - 1):\n",
        "    start = i * rate\n",
        "    stop = (i * rate) + rate\n",
        "    data, _ = sf.read(file, start=start, stop=stop)\n",
        "    sf.write(os.path.join(background_dir, name + str(i) + '.wav'), data, rate)"
      ]
    },
    {
      "cell_type": "code",
      "execution_count": 10,
      "metadata": {
        "id": "77PsQAKA4Arx",
        "colab": {
          "base_uri": "https://localhost:8080/"
        },
        "outputId": "31017394-fb8c-4b50-acbe-9afbf803fc04"
      },
      "outputs": [
        {
          "output_type": "stream",
          "name": "stdout",
          "text": [
            "Archive:  Data.zip\n",
            "   creating: Data/\n",
            "  inflating: __MACOSX/._Data         \n",
            "  inflating: Data/.DS_Store          \n",
            "  inflating: __MACOSX/Data/._.DS_Store  \n",
            "   creating: Data/Tiger/\n",
            "   creating: Data/Eagle/\n",
            "   creating: Data/Ostrich/\n",
            "   creating: Data/Lion/\n",
            "   creating: Data/Elephant/\n",
            "  inflating: Data/Tiger/tiger.34a65a7t.ingestion-7c57dddb4f-t8j2s.s6.wav  \n",
            "  inflating: __MACOSX/Data/Tiger/._tiger.34a65a7t.ingestion-7c57dddb4f-t8j2s.s6.wav  \n",
            "  inflating: Data/Tiger/tiger.34a65a7t.ingestion-7c57dddb4f-t8j2s.s7.wav  \n",
            "  inflating: __MACOSX/Data/Tiger/._tiger.34a65a7t.ingestion-7c57dddb4f-t8j2s.s7.wav  \n",
            "  inflating: Data/Tiger/tiger.34a65a7t.ingestion-7c57dddb4f-t8j2s.s5.wav  \n",
            "  inflating: __MACOSX/Data/Tiger/._tiger.34a65a7t.ingestion-7c57dddb4f-t8j2s.s5.wav  \n",
            "  inflating: Data/Tiger/tiger.34a65a7t.ingestion-7c57dddb4f-t8j2s.s4.wav  \n",
            "  inflating: __MACOSX/Data/Tiger/._tiger.34a65a7t.ingestion-7c57dddb4f-t8j2s.s4.wav  \n",
            "  inflating: Data/Tiger/tiger.34a65a7t.ingestion-7c57dddb4f-t8j2s.s1.wav  \n",
            "  inflating: __MACOSX/Data/Tiger/._tiger.34a65a7t.ingestion-7c57dddb4f-t8j2s.s1.wav  \n",
            "  inflating: Data/Tiger/tiger.34a65a7t.ingestion-7c57dddb4f-t8j2s.s3.wav  \n",
            "  inflating: __MACOSX/Data/Tiger/._tiger.34a65a7t.ingestion-7c57dddb4f-t8j2s.s3.wav  \n",
            "  inflating: Data/Tiger/tiger.34a65a7t.ingestion-7c57dddb4f-t8j2s.s2.wav  \n",
            "  inflating: __MACOSX/Data/Tiger/._tiger.34a65a7t.ingestion-7c57dddb4f-t8j2s.s2.wav  \n",
            "  inflating: Data/Tiger/tiger.lion.34a63hkr.ingestion-7c57dddb4f-z2zgx.s1.wav  \n",
            "  inflating: __MACOSX/Data/Tiger/._tiger.lion.34a63hkr.ingestion-7c57dddb4f-z2zgx.s1.wav  \n",
            "  inflating: Data/Tiger/tiger.lion.34a63hkr.ingestion-7c57dddb4f-z2zgx.s3.wav  \n",
            "  inflating: __MACOSX/Data/Tiger/._tiger.lion.34a63hkr.ingestion-7c57dddb4f-z2zgx.s3.wav  \n",
            "  inflating: Data/Tiger/tiger.lion.34a63hkr.ingestion-7c57dddb4f-z2zgx.s2.wav  \n",
            "  inflating: __MACOSX/Data/Tiger/._tiger.lion.34a63hkr.ingestion-7c57dddb4f-z2zgx.s2.wav  \n",
            "  inflating: Data/Tiger/tiger.lion.34a63hkr.ingestion-7c57dddb4f-z2zgx.s6.wav  \n",
            "  inflating: __MACOSX/Data/Tiger/._tiger.lion.34a63hkr.ingestion-7c57dddb4f-z2zgx.s6.wav  \n",
            "  inflating: Data/Tiger/tiger.lion.34a63hkr.ingestion-7c57dddb4f-z2zgx.s7.wav  \n",
            "  inflating: __MACOSX/Data/Tiger/._tiger.lion.34a63hkr.ingestion-7c57dddb4f-z2zgx.s7.wav  \n",
            "  inflating: Data/Tiger/tiger.lion.34a63hkr.ingestion-7c57dddb4f-z2zgx.s5.wav  \n",
            "  inflating: __MACOSX/Data/Tiger/._tiger.lion.34a63hkr.ingestion-7c57dddb4f-z2zgx.s5.wav  \n",
            "  inflating: Data/Tiger/tiger.lion.34a63hkr.ingestion-7c57dddb4f-z2zgx.s4.wav  \n",
            "  inflating: __MACOSX/Data/Tiger/._tiger.lion.34a63hkr.ingestion-7c57dddb4f-z2zgx.s4.wav  \n",
            "  inflating: Data/Tiger/tiger.34a65obc.ingestion-7c57dddb4f-z2zgx.s7.wav  \n",
            "  inflating: __MACOSX/Data/Tiger/._tiger.34a65obc.ingestion-7c57dddb4f-z2zgx.s7.wav  \n",
            "  inflating: Data/Tiger/tiger.34a64j1k.ingestion-7c57dddb4f-w6zgm.s6.wav  \n",
            "  inflating: __MACOSX/Data/Tiger/._tiger.34a64j1k.ingestion-7c57dddb4f-w6zgm.s6.wav  \n",
            "  inflating: Data/Tiger/tiger.34a64j1k.ingestion-7c57dddb4f-w6zgm.s7.wav  \n",
            "  inflating: __MACOSX/Data/Tiger/._tiger.34a64j1k.ingestion-7c57dddb4f-w6zgm.s7.wav  \n",
            "  inflating: Data/Tiger/tiger.34a65obc.ingestion-7c57dddb4f-z2zgx.s6.wav  \n",
            "  inflating: __MACOSX/Data/Tiger/._tiger.34a65obc.ingestion-7c57dddb4f-z2zgx.s6.wav  \n",
            "  inflating: Data/Tiger/tiger.34a65obc.ingestion-7c57dddb4f-z2zgx.s4.wav  \n",
            "  inflating: __MACOSX/Data/Tiger/._tiger.34a65obc.ingestion-7c57dddb4f-z2zgx.s4.wav  \n",
            "  inflating: Data/Tiger/tiger.34a64j1k.ingestion-7c57dddb4f-w6zgm.s5.wav  \n",
            "  inflating: __MACOSX/Data/Tiger/._tiger.34a64j1k.ingestion-7c57dddb4f-w6zgm.s5.wav  \n",
            "  inflating: Data/Tiger/tiger.34a64j1k.ingestion-7c57dddb4f-w6zgm.s4.wav  \n",
            "  inflating: __MACOSX/Data/Tiger/._tiger.34a64j1k.ingestion-7c57dddb4f-w6zgm.s4.wav  \n",
            "  inflating: Data/Tiger/tiger.34a65obc.ingestion-7c57dddb4f-z2zgx.s5.wav  \n",
            "  inflating: __MACOSX/Data/Tiger/._tiger.34a65obc.ingestion-7c57dddb4f-z2zgx.s5.wav  \n",
            "  inflating: Data/Tiger/tiger.34a65obc.ingestion-7c57dddb4f-z2zgx.s1.wav  \n",
            "  inflating: __MACOSX/Data/Tiger/._tiger.34a65obc.ingestion-7c57dddb4f-z2zgx.s1.wav  \n",
            "  inflating: Data/Tiger/tiger.34a64j1k.ingestion-7c57dddb4f-w6zgm.s1.wav  \n",
            "  inflating: __MACOSX/Data/Tiger/._tiger.34a64j1k.ingestion-7c57dddb4f-w6zgm.s1.wav  \n",
            "  inflating: Data/Tiger/tiger.34a65obc.ingestion-7c57dddb4f-z2zgx.s2.wav  \n",
            "  inflating: __MACOSX/Data/Tiger/._tiger.34a65obc.ingestion-7c57dddb4f-z2zgx.s2.wav  \n",
            "  inflating: Data/Tiger/tiger.34a64j1k.ingestion-7c57dddb4f-w6zgm.s3.wav  \n",
            "  inflating: __MACOSX/Data/Tiger/._tiger.34a64j1k.ingestion-7c57dddb4f-w6zgm.s3.wav  \n",
            "  inflating: Data/Tiger/tiger.34a64j1k.ingestion-7c57dddb4f-w6zgm.s2.wav  \n",
            "  inflating: __MACOSX/Data/Tiger/._tiger.34a64j1k.ingestion-7c57dddb4f-w6zgm.s2.wav  \n",
            "  inflating: Data/Tiger/tiger.34a65obc.ingestion-7c57dddb4f-z2zgx.s3.wav  \n",
            "  inflating: __MACOSX/Data/Tiger/._tiger.34a65obc.ingestion-7c57dddb4f-z2zgx.s3.wav  \n",
            "  inflating: Data/Eagle/.DS_Store    \n",
            "  inflating: __MACOSX/Data/Eagle/._.DS_Store  \n",
            "  inflating: Data/Eagle/eagle.34a5j080.ingestion-7c57dddb4f-t8j2s.s8.wav  \n",
            "  inflating: __MACOSX/Data/Eagle/._eagle.34a5j080.ingestion-7c57dddb4f-t8j2s.s8.wav  \n",
            "  inflating: Data/Eagle/eagle.34a5j080.ingestion-7c57dddb4f-t8j2s.s9.wav  \n",
            "  inflating: __MACOSX/Data/Eagle/._eagle.34a5j080.ingestion-7c57dddb4f-t8j2s.s9.wav  \n",
            "  inflating: Data/Eagle/eagle.34a5jeao.ingestion-7c57dddb4f-z2zgx.s8.wav  \n",
            "  inflating: __MACOSX/Data/Eagle/._eagle.34a5jeao.ingestion-7c57dddb4f-z2zgx.s8.wav  \n",
            "  inflating: Data/Eagle/eagle.34a5i6vn.ingestion-7c57dddb4f-w6zgm.s8.wav  \n",
            "  inflating: __MACOSX/Data/Eagle/._eagle.34a5i6vn.ingestion-7c57dddb4f-w6zgm.s8.wav  \n",
            "  inflating: Data/Eagle/eagle.34a5j080.ingestion-7c57dddb4f-t8j2s.s1.wav  \n",
            "  inflating: __MACOSX/Data/Eagle/._eagle.34a5j080.ingestion-7c57dddb4f-t8j2s.s1.wav  \n",
            "  inflating: Data/Eagle/eagle.34a5i6vn.ingestion-7c57dddb4f-w6zgm.s4.wav  \n",
            "  inflating: __MACOSX/Data/Eagle/._eagle.34a5i6vn.ingestion-7c57dddb4f-w6zgm.s4.wav  \n",
            "  inflating: Data/Eagle/eagle.34a5i6vn.ingestion-7c57dddb4f-w6zgm.s5.wav  \n",
            "  inflating: __MACOSX/Data/Eagle/._eagle.34a5i6vn.ingestion-7c57dddb4f-w6zgm.s5.wav  \n",
            "  inflating: Data/Eagle/eagle.34a5jeao.ingestion-7c57dddb4f-z2zgx.s1.wav  \n",
            "  inflating: __MACOSX/Data/Eagle/._eagle.34a5jeao.ingestion-7c57dddb4f-z2zgx.s1.wav  \n",
            "  inflating: Data/Eagle/eagle.34a5k2jm.ingestion-7c57dddb4f-w6zgm.s1.wav  \n",
            "  inflating: __MACOSX/Data/Eagle/._eagle.34a5k2jm.ingestion-7c57dddb4f-w6zgm.s1.wav  \n",
            "  inflating: Data/Eagle/eagle.34a5k2jm.ingestion-7c57dddb4f-w6zgm.s3.wav  \n",
            "  inflating: __MACOSX/Data/Eagle/._eagle.34a5k2jm.ingestion-7c57dddb4f-w6zgm.s3.wav  \n",
            "  inflating: Data/Eagle/eagle.34a5jeao.ingestion-7c57dddb4f-z2zgx.s3.wav  \n",
            "  inflating: __MACOSX/Data/Eagle/._eagle.34a5jeao.ingestion-7c57dddb4f-z2zgx.s3.wav  \n",
            "  inflating: Data/Eagle/eagle.34a5j080.ingestion-7c57dddb4f-t8j2s.s2.wav  \n",
            "  inflating: __MACOSX/Data/Eagle/._eagle.34a5j080.ingestion-7c57dddb4f-t8j2s.s2.wav  \n",
            "  inflating: Data/Eagle/eagle.34a5i6vn.ingestion-7c57dddb4f-w6zgm.s7.wav  \n",
            "  inflating: __MACOSX/Data/Eagle/._eagle.34a5i6vn.ingestion-7c57dddb4f-w6zgm.s7.wav  \n",
            "  inflating: Data/Eagle/eagle.34a5i6vn.ingestion-7c57dddb4f-w6zgm.s6.wav  \n",
            "  inflating: __MACOSX/Data/Eagle/._eagle.34a5i6vn.ingestion-7c57dddb4f-w6zgm.s6.wav  \n",
            "  inflating: Data/Eagle/eagle.34a5j080.ingestion-7c57dddb4f-t8j2s.s3.wav  \n",
            "  inflating: __MACOSX/Data/Eagle/._eagle.34a5j080.ingestion-7c57dddb4f-t8j2s.s3.wav  \n",
            "  inflating: Data/Eagle/eagle.34a5jeao.ingestion-7c57dddb4f-z2zgx.s2.wav  \n",
            "  inflating: __MACOSX/Data/Eagle/._eagle.34a5jeao.ingestion-7c57dddb4f-z2zgx.s2.wav  \n",
            "  inflating: Data/Eagle/eagle.34a5k2jm.ingestion-7c57dddb4f-w6zgm.s2.wav  \n",
            "  inflating: __MACOSX/Data/Eagle/._eagle.34a5k2jm.ingestion-7c57dddb4f-w6zgm.s2.wav  \n",
            "  inflating: Data/Eagle/eagle.34a5jeao.ingestion-7c57dddb4f-z2zgx.s6.wav  \n",
            "  inflating: __MACOSX/Data/Eagle/._eagle.34a5jeao.ingestion-7c57dddb4f-z2zgx.s6.wav  \n",
            "  inflating: Data/Eagle/eagle.34a5k2jm.ingestion-7c57dddb4f-w6zgm.s6.wav  \n",
            "  inflating: __MACOSX/Data/Eagle/._eagle.34a5k2jm.ingestion-7c57dddb4f-w6zgm.s6.wav  \n",
            "  inflating: Data/Eagle/eagle.34a5j080.ingestion-7c57dddb4f-t8j2s.s7.wav  \n",
            "  inflating: __MACOSX/Data/Eagle/._eagle.34a5j080.ingestion-7c57dddb4f-t8j2s.s7.wav  \n",
            "  inflating: Data/Eagle/eagle.34a5i6vn.ingestion-7c57dddb4f-w6zgm.s2.wav  \n",
            "  inflating: __MACOSX/Data/Eagle/._eagle.34a5i6vn.ingestion-7c57dddb4f-w6zgm.s2.wav  \n",
            "  inflating: Data/Eagle/eagle.34a5i6vn.ingestion-7c57dddb4f-w6zgm.s3.wav  \n",
            "  inflating: __MACOSX/Data/Eagle/._eagle.34a5i6vn.ingestion-7c57dddb4f-w6zgm.s3.wav  \n",
            "  inflating: Data/Eagle/eagle.34a5j080.ingestion-7c57dddb4f-t8j2s.s6.wav  \n",
            "  inflating: __MACOSX/Data/Eagle/._eagle.34a5j080.ingestion-7c57dddb4f-t8j2s.s6.wav  \n",
            "  inflating: Data/Eagle/eagle.34a5k2jm.ingestion-7c57dddb4f-w6zgm.s7.wav  \n",
            "  inflating: __MACOSX/Data/Eagle/._eagle.34a5k2jm.ingestion-7c57dddb4f-w6zgm.s7.wav  \n",
            "  inflating: Data/Eagle/eagle.34a5jeao.ingestion-7c57dddb4f-z2zgx.s7.wav  \n",
            "  inflating: __MACOSX/Data/Eagle/._eagle.34a5jeao.ingestion-7c57dddb4f-z2zgx.s7.wav  \n",
            "  inflating: Data/Eagle/eagle.34a5jeao.ingestion-7c57dddb4f-z2zgx.s5.wav  \n",
            "  inflating: __MACOSX/Data/Eagle/._eagle.34a5jeao.ingestion-7c57dddb4f-z2zgx.s5.wav  \n",
            "  inflating: Data/Eagle/eagle.34a5k2jm.ingestion-7c57dddb4f-w6zgm.s5.wav  \n",
            "  inflating: __MACOSX/Data/Eagle/._eagle.34a5k2jm.ingestion-7c57dddb4f-w6zgm.s5.wav  \n",
            "  inflating: Data/Eagle/eagle.34a5j080.ingestion-7c57dddb4f-t8j2s.s4.wav  \n",
            "  inflating: __MACOSX/Data/Eagle/._eagle.34a5j080.ingestion-7c57dddb4f-t8j2s.s4.wav  \n",
            "  inflating: Data/Eagle/eagle.34a5i6vn.ingestion-7c57dddb4f-w6zgm.s1.wav  \n",
            "  inflating: __MACOSX/Data/Eagle/._eagle.34a5i6vn.ingestion-7c57dddb4f-w6zgm.s1.wav  \n",
            "  inflating: Data/Eagle/eagle.34a5j080.ingestion-7c57dddb4f-t8j2s.s5.wav  \n",
            "  inflating: __MACOSX/Data/Eagle/._eagle.34a5j080.ingestion-7c57dddb4f-t8j2s.s5.wav  \n",
            "  inflating: Data/Eagle/eagle.34a5k2jm.ingestion-7c57dddb4f-w6zgm.s4.wav  \n",
            "  inflating: __MACOSX/Data/Eagle/._eagle.34a5k2jm.ingestion-7c57dddb4f-w6zgm.s4.wav  \n",
            "  inflating: Data/Eagle/eagle.34a5jeao.ingestion-7c57dddb4f-z2zgx.s4.wav  \n",
            "  inflating: __MACOSX/Data/Eagle/._eagle.34a5jeao.ingestion-7c57dddb4f-z2zgx.s4.wav  \n",
            "  inflating: Data/Ostrich/ostrich.34a6d330.ingestion-7c57dddb4f-w6zgm.s3.wav  \n",
            "  inflating: __MACOSX/Data/Ostrich/._ostrich.34a6d330.ingestion-7c57dddb4f-w6zgm.s3.wav  \n",
            "  inflating: Data/Ostrich/ostrich.34a6d330.ingestion-7c57dddb4f-w6zgm.s2.wav  \n",
            "  inflating: __MACOSX/Data/Ostrich/._ostrich.34a6d330.ingestion-7c57dddb4f-w6zgm.s2.wav  \n",
            "  inflating: Data/Ostrich/ostrich.34a6d330.ingestion-7c57dddb4f-w6zgm.s1.wav  \n",
            "  inflating: __MACOSX/Data/Ostrich/._ostrich.34a6d330.ingestion-7c57dddb4f-w6zgm.s1.wav  \n",
            "  inflating: Data/Ostrich/ostrich.34a6d330.ingestion-7c57dddb4f-w6zgm.s5.wav  \n",
            "  inflating: __MACOSX/Data/Ostrich/._ostrich.34a6d330.ingestion-7c57dddb4f-w6zgm.s5.wav  \n",
            "  inflating: Data/Ostrich/ostrich.34a6d330.ingestion-7c57dddb4f-w6zgm.s4.wav  \n",
            "  inflating: __MACOSX/Data/Ostrich/._ostrich.34a6d330.ingestion-7c57dddb4f-w6zgm.s4.wav  \n",
            "  inflating: Data/Ostrich/ostrich.34a6bnvu.ingestion-7c57dddb4f-w6zgm.s6.wav  \n",
            "  inflating: __MACOSX/Data/Ostrich/._ostrich.34a6bnvu.ingestion-7c57dddb4f-w6zgm.s6.wav  \n",
            "  inflating: Data/Ostrich/ostrich.34a6bnvu.ingestion-7c57dddb4f-w6zgm.s5.wav  \n",
            "  inflating: __MACOSX/Data/Ostrich/._ostrich.34a6bnvu.ingestion-7c57dddb4f-w6zgm.s5.wav  \n",
            "  inflating: Data/Ostrich/ostrich.34a6bnvu.ingestion-7c57dddb4f-w6zgm.s4.wav  \n",
            "  inflating: __MACOSX/Data/Ostrich/._ostrich.34a6bnvu.ingestion-7c57dddb4f-w6zgm.s4.wav  \n",
            "  inflating: Data/Ostrich/ostrich.34a6bnvu.ingestion-7c57dddb4f-w6zgm.s1.wav  \n",
            "  inflating: __MACOSX/Data/Ostrich/._ostrich.34a6bnvu.ingestion-7c57dddb4f-w6zgm.s1.wav  \n",
            "  inflating: Data/Ostrich/ostrich.34a6bnvu.ingestion-7c57dddb4f-w6zgm.s3.wav  \n",
            "  inflating: __MACOSX/Data/Ostrich/._ostrich.34a6bnvu.ingestion-7c57dddb4f-w6zgm.s3.wav  \n",
            "  inflating: Data/Ostrich/ostrich.34a6bnvu.ingestion-7c57dddb4f-w6zgm.s2.wav  \n",
            "  inflating: __MACOSX/Data/Ostrich/._ostrich.34a6bnvu.ingestion-7c57dddb4f-w6zgm.s2.wav  \n",
            "  inflating: Data/Ostrich/ostrich.34a6c8nn.ingestion-7c57dddb4f-t8j2s.s6.wav  \n",
            "  inflating: __MACOSX/Data/Ostrich/._ostrich.34a6c8nn.ingestion-7c57dddb4f-t8j2s.s6.wav  \n",
            "  inflating: Data/Ostrich/ostrich.34a6cl9l.ingestion-7c57dddb4f-z2zgx.s1.wav  \n",
            "  inflating: __MACOSX/Data/Ostrich/._ostrich.34a6cl9l.ingestion-7c57dddb4f-z2zgx.s1.wav  \n",
            "  inflating: Data/Ostrich/ostrich.34a6cl9l.ingestion-7c57dddb4f-z2zgx.s3.wav  \n",
            "  inflating: __MACOSX/Data/Ostrich/._ostrich.34a6cl9l.ingestion-7c57dddb4f-z2zgx.s3.wav  \n",
            "  inflating: Data/Ostrich/ostrich.34a6c8nn.ingestion-7c57dddb4f-t8j2s.s4.wav  \n",
            "  inflating: __MACOSX/Data/Ostrich/._ostrich.34a6c8nn.ingestion-7c57dddb4f-t8j2s.s4.wav  \n",
            "  inflating: Data/Ostrich/ostrich.34a6c8nn.ingestion-7c57dddb4f-t8j2s.s5.wav  \n",
            "  inflating: __MACOSX/Data/Ostrich/._ostrich.34a6c8nn.ingestion-7c57dddb4f-t8j2s.s5.wav  \n",
            "  inflating: Data/Ostrich/ostrich.34a6cl9l.ingestion-7c57dddb4f-z2zgx.s2.wav  \n",
            "  inflating: __MACOSX/Data/Ostrich/._ostrich.34a6cl9l.ingestion-7c57dddb4f-z2zgx.s2.wav  \n",
            "  inflating: Data/Ostrich/ostrich.34a6cl9l.ingestion-7c57dddb4f-z2zgx.s6.wav  \n",
            "  inflating: __MACOSX/Data/Ostrich/._ostrich.34a6cl9l.ingestion-7c57dddb4f-z2zgx.s6.wav  \n",
            "  inflating: Data/Ostrich/ostrich.34a6c8nn.ingestion-7c57dddb4f-t8j2s.s1.wav  \n",
            "  inflating: __MACOSX/Data/Ostrich/._ostrich.34a6c8nn.ingestion-7c57dddb4f-t8j2s.s1.wav  \n",
            "  inflating: Data/Ostrich/ostrich.34a6cl9l.ingestion-7c57dddb4f-z2zgx.s5.wav  \n",
            "  inflating: __MACOSX/Data/Ostrich/._ostrich.34a6cl9l.ingestion-7c57dddb4f-z2zgx.s5.wav  \n",
            "  inflating: Data/Ostrich/ostrich.34a6c8nn.ingestion-7c57dddb4f-t8j2s.s2.wav  \n",
            "  inflating: __MACOSX/Data/Ostrich/._ostrich.34a6c8nn.ingestion-7c57dddb4f-t8j2s.s2.wav  \n",
            "  inflating: Data/Ostrich/ostrich.34a6c8nn.ingestion-7c57dddb4f-t8j2s.s3.wav  \n",
            "  inflating: __MACOSX/Data/Ostrich/._ostrich.34a6c8nn.ingestion-7c57dddb4f-t8j2s.s3.wav  \n",
            "  inflating: Data/Ostrich/ostrich.34a6cl9l.ingestion-7c57dddb4f-z2zgx.s4.wav  \n",
            "  inflating: __MACOSX/Data/Ostrich/._ostrich.34a6cl9l.ingestion-7c57dddb4f-z2zgx.s4.wav  \n",
            "  inflating: Data/Lion/lion.34a5ri1d.ingestion-7c57dddb4f-z2zgx.s3.wav  \n",
            "  inflating: __MACOSX/Data/Lion/._lion.34a5ri1d.ingestion-7c57dddb4f-z2zgx.s3.wav  \n",
            "  inflating: Data/Lion/lion.34a5r59u.ingestion-7c57dddb4f-t8j2s.s5.wav  \n",
            "  inflating: __MACOSX/Data/Lion/._lion.34a5r59u.ingestion-7c57dddb4f-t8j2s.s5.wav  \n",
            "  inflating: Data/Lion/lion.34a5s0tg.ingestion-7c57dddb4f-w6zgm.s4.wav  \n",
            "  inflating: __MACOSX/Data/Lion/._lion.34a5s0tg.ingestion-7c57dddb4f-w6zgm.s4.wav  \n",
            "  inflating: Data/Lion/lion.34a5s0tg.ingestion-7c57dddb4f-w6zgm.s5.wav  \n",
            "  inflating: __MACOSX/Data/Lion/._lion.34a5s0tg.ingestion-7c57dddb4f-w6zgm.s5.wav  \n",
            "  inflating: Data/Lion/lion.34a5r59u.ingestion-7c57dddb4f-t8j2s.s4.wav  \n",
            "  inflating: __MACOSX/Data/Lion/._lion.34a5r59u.ingestion-7c57dddb4f-t8j2s.s4.wav  \n",
            "  inflating: Data/Lion/lion.34a5ri1d.ingestion-7c57dddb4f-z2zgx.s2.wav  \n",
            "  inflating: __MACOSX/Data/Lion/._lion.34a5ri1d.ingestion-7c57dddb4f-z2zgx.s2.wav  \n",
            "  inflating: Data/Lion/lion.34a5r59u.ingestion-7c57dddb4f-t8j2s.s6.wav  \n",
            "  inflating: __MACOSX/Data/Lion/._lion.34a5r59u.ingestion-7c57dddb4f-t8j2s.s6.wav  \n",
            "  inflating: Data/Lion/lion.34a5s0tg.ingestion-7c57dddb4f-w6zgm.s7.wav  \n",
            "  inflating: __MACOSX/Data/Lion/._lion.34a5s0tg.ingestion-7c57dddb4f-w6zgm.s7.wav  \n",
            "  inflating: Data/Lion/lion.34a5s0tg.ingestion-7c57dddb4f-w6zgm.s6.wav  \n",
            "  inflating: __MACOSX/Data/Lion/._lion.34a5s0tg.ingestion-7c57dddb4f-w6zgm.s6.wav  \n",
            "  inflating: Data/Lion/lion.34a5r59u.ingestion-7c57dddb4f-t8j2s.s7.wav  \n",
            "  inflating: __MACOSX/Data/Lion/._lion.34a5r59u.ingestion-7c57dddb4f-t8j2s.s7.wav  \n",
            "  inflating: Data/Lion/lion.34a5ri1d.ingestion-7c57dddb4f-z2zgx.s1.wav  \n",
            "  inflating: __MACOSX/Data/Lion/._lion.34a5ri1d.ingestion-7c57dddb4f-z2zgx.s1.wav  \n",
            "  inflating: Data/Lion/lion.34a5ri1d.ingestion-7c57dddb4f-z2zgx.s5.wav  \n",
            "  inflating: __MACOSX/Data/Lion/._lion.34a5ri1d.ingestion-7c57dddb4f-z2zgx.s5.wav  \n",
            "  inflating: Data/Lion/lion.34a5r59u.ingestion-7c57dddb4f-t8j2s.s3.wav  \n",
            "  inflating: __MACOSX/Data/Lion/._lion.34a5r59u.ingestion-7c57dddb4f-t8j2s.s3.wav  \n",
            "  inflating: Data/Lion/lion.34a5s0tg.ingestion-7c57dddb4f-w6zgm.s2.wav  \n",
            "  inflating: __MACOSX/Data/Lion/._lion.34a5s0tg.ingestion-7c57dddb4f-w6zgm.s2.wav  \n",
            "  inflating: Data/Lion/lion.34a5s0tg.ingestion-7c57dddb4f-w6zgm.s3.wav  \n",
            "  inflating: __MACOSX/Data/Lion/._lion.34a5s0tg.ingestion-7c57dddb4f-w6zgm.s3.wav  \n",
            "  inflating: Data/Lion/lion.34a5r59u.ingestion-7c57dddb4f-t8j2s.s2.wav  \n",
            "  inflating: __MACOSX/Data/Lion/._lion.34a5r59u.ingestion-7c57dddb4f-t8j2s.s2.wav  \n",
            "  inflating: Data/Lion/lion.34a5ri1d.ingestion-7c57dddb4f-z2zgx.s4.wav  \n",
            "  inflating: __MACOSX/Data/Lion/._lion.34a5ri1d.ingestion-7c57dddb4f-z2zgx.s4.wav  \n",
            "  inflating: Data/Lion/lion.34a5ri1d.ingestion-7c57dddb4f-z2zgx.s6.wav  \n",
            "  inflating: __MACOSX/Data/Lion/._lion.34a5ri1d.ingestion-7c57dddb4f-z2zgx.s6.wav  \n",
            "  inflating: Data/Lion/lion.34a5s0tg.ingestion-7c57dddb4f-w6zgm.s1.wav  \n",
            "  inflating: __MACOSX/Data/Lion/._lion.34a5s0tg.ingestion-7c57dddb4f-w6zgm.s1.wav  \n",
            "  inflating: Data/Lion/lion.34a5r59u.ingestion-7c57dddb4f-t8j2s.s1.wav  \n",
            "  inflating: __MACOSX/Data/Lion/._lion.34a5r59u.ingestion-7c57dddb4f-t8j2s.s1.wav  \n",
            "  inflating: Data/Lion/lion.34a5ri1d.ingestion-7c57dddb4f-z2zgx.s7.wav  \n",
            "  inflating: __MACOSX/Data/Lion/._lion.34a5ri1d.ingestion-7c57dddb4f-z2zgx.s7.wav  \n",
            "  inflating: Data/Lion/lion.34a6168j.ingestion-7c57dddb4f-t8j2s.s1.wav  \n",
            "  inflating: __MACOSX/Data/Lion/._lion.34a6168j.ingestion-7c57dddb4f-t8j2s.s1.wav  \n",
            "  inflating: Data/Lion/lion.34a6168j.ingestion-7c57dddb4f-t8j2s.s3.wav  \n",
            "  inflating: __MACOSX/Data/Lion/._lion.34a6168j.ingestion-7c57dddb4f-t8j2s.s3.wav  \n",
            "  inflating: Data/Lion/lion.34a6168j.ingestion-7c57dddb4f-t8j2s.s2.wav  \n",
            "  inflating: __MACOSX/Data/Lion/._lion.34a6168j.ingestion-7c57dddb4f-t8j2s.s2.wav  \n",
            "  inflating: Data/Lion/lion.34a6168j.ingestion-7c57dddb4f-t8j2s.s6.wav  \n",
            "  inflating: __MACOSX/Data/Lion/._lion.34a6168j.ingestion-7c57dddb4f-t8j2s.s6.wav  \n",
            "  inflating: Data/Lion/lion.34a6168j.ingestion-7c57dddb4f-t8j2s.s7.wav  \n",
            "  inflating: __MACOSX/Data/Lion/._lion.34a6168j.ingestion-7c57dddb4f-t8j2s.s7.wav  \n",
            "  inflating: Data/Lion/lion.34a6168j.ingestion-7c57dddb4f-t8j2s.s5.wav  \n",
            "  inflating: __MACOSX/Data/Lion/._lion.34a6168j.ingestion-7c57dddb4f-t8j2s.s5.wav  \n",
            "  inflating: Data/Lion/lion.34a6168j.ingestion-7c57dddb4f-t8j2s.s4.wav  \n",
            "  inflating: __MACOSX/Data/Lion/._lion.34a6168j.ingestion-7c57dddb4f-t8j2s.s4.wav  \n",
            "  inflating: Data/Lion/lion.34a5ri1d.ingestion-7c57dddb4f-z2zgx.s8.wav  \n",
            "  inflating: __MACOSX/Data/Lion/._lion.34a5ri1d.ingestion-7c57dddb4f-z2zgx.s8.wav  \n",
            "  inflating: Data/Lion/lion.34a5s0tg.ingestion-7c57dddb4f-w6zgm.s8.wav  \n",
            "  inflating: __MACOSX/Data/Lion/._lion.34a5s0tg.ingestion-7c57dddb4f-w6zgm.s8.wav  \n",
            "  inflating: Data/Lion/lion.34a5r59u.ingestion-7c57dddb4f-t8j2s.s8.wav  \n",
            "  inflating: __MACOSX/Data/Lion/._lion.34a5r59u.ingestion-7c57dddb4f-t8j2s.s8.wav  \n",
            "  inflating: Data/Elephant/elephant.34a56cjm.ingestion-7c57dddb4f-w6zgm.s8.wav  \n",
            "  inflating: __MACOSX/Data/Elephant/._elephant.34a56cjm.ingestion-7c57dddb4f-w6zgm.s8.wav  \n",
            "  inflating: Data/Elephant/elephant.34a56q6f.ingestion-7c57dddb4f-t8j2s.s1.wav  \n",
            "  inflating: __MACOSX/Data/Elephant/._elephant.34a56q6f.ingestion-7c57dddb4f-t8j2s.s1.wav  \n",
            "  inflating: Data/Elephant/elephant.34a4ukme.ingestion-7c57dddb4f-z2zgx.wav  \n",
            "  inflating: __MACOSX/Data/Elephant/._elephant.34a4ukme.ingestion-7c57dddb4f-z2zgx.wav  \n",
            "  inflating: Data/Elephant/elephant.34a56q6f.ingestion-7c57dddb4f-t8j2s.s2.wav  \n",
            "  inflating: __MACOSX/Data/Elephant/._elephant.34a56q6f.ingestion-7c57dddb4f-t8j2s.s2.wav  \n",
            "  inflating: Data/Elephant/elephant.34a56q6f.ingestion-7c57dddb4f-t8j2s.s3.wav  \n",
            "  inflating: __MACOSX/Data/Elephant/._elephant.34a56q6f.ingestion-7c57dddb4f-t8j2s.s3.wav  \n",
            "  inflating: Data/Elephant/elephant.34a56q6f.ingestion-7c57dddb4f-t8j2s.s7.wav  \n",
            "  inflating: __MACOSX/Data/Elephant/._elephant.34a56q6f.ingestion-7c57dddb4f-t8j2s.s7.wav  \n",
            "  inflating: Data/Elephant/elephant.34a56q6f.ingestion-7c57dddb4f-t8j2s.s6.wav  \n",
            "  inflating: __MACOSX/Data/Elephant/._elephant.34a56q6f.ingestion-7c57dddb4f-t8j2s.s6.wav  \n",
            "  inflating: Data/Elephant/elephant.34a56q6f.ingestion-7c57dddb4f-t8j2s.s4.wav  \n",
            "  inflating: __MACOSX/Data/Elephant/._elephant.34a56q6f.ingestion-7c57dddb4f-t8j2s.s4.wav  \n",
            "  inflating: Data/Elephant/elephant.34a56q6f.ingestion-7c57dddb4f-t8j2s.s5.wav  \n",
            "  inflating: __MACOSX/Data/Elephant/._elephant.34a56q6f.ingestion-7c57dddb4f-t8j2s.s5.wav  \n",
            "  inflating: Data/Elephant/elephant.34a4tuvs.ingestion-7c57dddb4f-z2zgx.s8.wav  \n",
            "  inflating: __MACOSX/Data/Elephant/._elephant.34a4tuvs.ingestion-7c57dddb4f-z2zgx.s8.wav  \n",
            "  inflating: Data/Elephant/elephant.34a56cjm.ingestion-7c57dddb4f-w6zgm.s1.wav  \n",
            "  inflating: __MACOSX/Data/Elephant/._elephant.34a56cjm.ingestion-7c57dddb4f-w6zgm.s1.wav  \n",
            "  inflating: Data/Elephant/elephant.34a4tuvs.ingestion-7c57dddb4f-z2zgx.s5.wav  \n",
            "  inflating: __MACOSX/Data/Elephant/._elephant.34a4tuvs.ingestion-7c57dddb4f-z2zgx.s5.wav  \n",
            "  inflating: Data/Elephant/elephant.34a56q6f.ingestion-7c57dddb4f-t8j2s.s8.wav  \n",
            "  inflating: __MACOSX/Data/Elephant/._elephant.34a56q6f.ingestion-7c57dddb4f-t8j2s.s8.wav  \n",
            "  inflating: Data/Elephant/elephant.34a4tuvs.ingestion-7c57dddb4f-z2zgx.s4.wav  \n",
            "  inflating: __MACOSX/Data/Elephant/._elephant.34a4tuvs.ingestion-7c57dddb4f-z2zgx.s4.wav  \n",
            "  inflating: Data/Elephant/elephant.34a56cjm.ingestion-7c57dddb4f-w6zgm.s2.wav  \n",
            "  inflating: __MACOSX/Data/Elephant/._elephant.34a56cjm.ingestion-7c57dddb4f-w6zgm.s2.wav  \n",
            "  inflating: Data/Elephant/elephant.34a4tuvs.ingestion-7c57dddb4f-z2zgx.s6.wav  \n",
            "  inflating: __MACOSX/Data/Elephant/._elephant.34a4tuvs.ingestion-7c57dddb4f-z2zgx.s6.wav  \n",
            "  inflating: Data/Elephant/elephant.34a4tuvs.ingestion-7c57dddb4f-z2zgx.s7.wav  \n",
            "  inflating: __MACOSX/Data/Elephant/._elephant.34a4tuvs.ingestion-7c57dddb4f-z2zgx.s7.wav  \n",
            "  inflating: Data/Elephant/elephant.34a56cjm.ingestion-7c57dddb4f-w6zgm.s3.wav  \n",
            "  inflating: __MACOSX/Data/Elephant/._elephant.34a56cjm.ingestion-7c57dddb4f-w6zgm.s3.wav  \n",
            "  inflating: Data/Elephant/elephant.34a56cjm.ingestion-7c57dddb4f-w6zgm.s7.wav  \n",
            "  inflating: __MACOSX/Data/Elephant/._elephant.34a56cjm.ingestion-7c57dddb4f-w6zgm.s7.wav  \n",
            "  inflating: Data/Elephant/elephant.34a4tuvs.ingestion-7c57dddb4f-z2zgx.s3.wav  \n",
            "  inflating: __MACOSX/Data/Elephant/._elephant.34a4tuvs.ingestion-7c57dddb4f-z2zgx.s3.wav  \n",
            "  inflating: Data/Elephant/elephant.34a4tuvs.ingestion-7c57dddb4f-z2zgx.s2.wav  \n",
            "  inflating: __MACOSX/Data/Elephant/._elephant.34a4tuvs.ingestion-7c57dddb4f-z2zgx.s2.wav  \n",
            "  inflating: Data/Elephant/elephant.34a56cjm.ingestion-7c57dddb4f-w6zgm.s6.wav  \n",
            "  inflating: __MACOSX/Data/Elephant/._elephant.34a56cjm.ingestion-7c57dddb4f-w6zgm.s6.wav  \n",
            "  inflating: Data/Elephant/elephant.34a56cjm.ingestion-7c57dddb4f-w6zgm.s4.wav  \n",
            "  inflating: __MACOSX/Data/Elephant/._elephant.34a56cjm.ingestion-7c57dddb4f-w6zgm.s4.wav  \n",
            "  inflating: Data/Elephant/elephant.34a4tuvs.ingestion-7c57dddb4f-z2zgx.s1.wav  \n",
            "  inflating: __MACOSX/Data/Elephant/._elephant.34a4tuvs.ingestion-7c57dddb4f-z2zgx.s1.wav  \n",
            "  inflating: Data/Elephant/elephant.34a56cjm.ingestion-7c57dddb4f-w6zgm.s5.wav  \n",
            "  inflating: __MACOSX/Data/Elephant/._elephant.34a56cjm.ingestion-7c57dddb4f-w6zgm.s5.wav  \n"
          ]
        }
      ],
      "source": [
        "# Hacer uso de dataset personalizado\n",
        "if use_custom_dataset:\n",
        "  !unzip Data.zip # Descomprimir ZIP\n",
        "  dataset_dir = './Data' # Ruta de la carpeta obtenida"
      ]
    },
    {
      "cell_type": "code",
      "execution_count": 11,
      "metadata": {
        "id": "tMQ6cpw_B9e_"
      },
      "outputs": [],
      "source": [
        "# Definición de metodo para incluir los archivos de ruido de fondo en el dataset\n",
        "def move_background_dataset(dataset_dir):\n",
        "  dest_dir = os.path.join(dataset_dir, 'background')\n",
        "  if os.path.exists(dest_dir):\n",
        "    files = glob.glob(os.path.join(background_dir, '*.wav'))\n",
        "    for file in files:\n",
        "      shutil.move(file, dest_dir)\n",
        "  else:\n",
        "    shutil.move(background_dir, dest_dir)"
      ]
    },
    {
      "cell_type": "code",
      "execution_count": 12,
      "metadata": {
        "id": "45iru8OdliG3",
        "colab": {
          "base_uri": "https://localhost:8080/"
        },
        "outputId": "331e013d-7881-439c-c0b9-a25fa5767566"
      },
      "outputs": [
        {
          "output_type": "stream",
          "name": "stdout",
          "text": [
            "Moved 6 images from Eagle\n",
            "Moved 5 images from Elephant\n",
            "Moved 5 images from Ostrich\n",
            "Moved 6 images from Tiger\n",
            "Moved 85 images from background\n",
            "Moved 6 images from Lion\n"
          ]
        }
      ],
      "source": [
        "if use_custom_dataset:\n",
        "  # Usar metodo\n",
        "  move_background_dataset(dataset_dir)\n",
        "\n",
        "  # Separar archivos de testeo\n",
        "  test_dir = './dataset-test'\n",
        "  test_data_ratio = 0.2\n",
        "  dirs = glob.glob(os.path.join(dataset_dir, '*/'))\n",
        "  for dir in dirs:\n",
        "    files = glob.glob(os.path.join(dir, '*.wav'))\n",
        "    test_count = round(len(files) * test_data_ratio)\n",
        "    random.seed(42)\n",
        "    random.shuffle(files)\n",
        "    # Mover los archivos de testeo a una nueva carpeta\n",
        "    for file in files[:test_count]:\n",
        "      class_dir = os.path.basename(os.path.normpath(dir))\n",
        "      os.makedirs(os.path.join(test_dir, class_dir), exist_ok=True)\n",
        "      os.rename(file, os.path.join(test_dir, class_dir, os.path.basename(file)))\n",
        "    print('Moved', test_count, 'images from', class_dir)"
      ]
    },
    {
      "cell_type": "code",
      "execution_count": 13,
      "metadata": {
        "id": "gLC3ayJsoeNw"
      },
      "outputs": [],
      "source": [
        "# Metodo para obtener audio aleatorio del dataset\n",
        "def get_random_audio_file(samples_dir):\n",
        "  files = os.path.abspath(os.path.join(samples_dir, '*/*.wav'))\n",
        "  files_list = glob.glob(files)\n",
        "  random_audio_path = random.choice(files_list)\n",
        "  return random_audio_path\n",
        "\n",
        "#Metodo para mostar el archivo de audio seleccionado\n",
        "def show_sample(audio_path):\n",
        "  audio_data, sample_rate = sf.read(audio_path)\n",
        "  class_name = os.path.basename(os.path.dirname(audio_path))\n",
        "  print(f'Class: {class_name}')\n",
        "  print(f'File: {audio_path}')\n",
        "  print(f'Sample rate: {sample_rate}')\n",
        "  print(f'Sample length: {len(audio_data)}')\n",
        "\n",
        "  plt.title(class_name)\n",
        "  plt.plot(audio_data)\n",
        "  display(Audio(audio_data, rate=sample_rate))"
      ]
    },
    {
      "cell_type": "code",
      "execution_count": 14,
      "metadata": {
        "id": "todbtEWFy0mj",
        "colab": {
          "base_uri": "https://localhost:8080/",
          "height": 413
        },
        "outputId": "fb5fe715-0bf4-45f8-8467-a2dd1a088e40"
      },
      "outputs": [
        {
          "output_type": "stream",
          "name": "stdout",
          "text": [
            "Class: background\n",
            "File: /content/dataset-test/background/doing_the_dishes54.wav\n",
            "Sample rate: 16000\n",
            "Sample length: 16000\n"
          ]
        },
        {
          "output_type": "display_data",
          "data": {
            "text/plain": [
              "<IPython.lib.display.Audio object>"
            ],
            "text/html": [
              "\n",
              "                <audio controls=\"controls\" >\n",
              "                    <source src=\"data:audio/wav;base64,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\" type=\"audio/wav\" />\n",
              "                    Your browser does not support the audio element.\n",
              "                </audio>\n",
              "              "
            ]
          },
          "metadata": {}
        },
        {
          "output_type": "display_data",
          "data": {
            "text/plain": [
              "<Figure size 432x288 with 1 Axes>"
            ],
            "image/png": "[encoded data removed]"
          },
          "metadata": {
            "needs_background": "light"
          }
        }
      ],
      "source": [
        "# Hacer uso de los metodos anteriores\n",
        "random_audio = get_random_audio_file(test_dir)\n",
        "show_sample(random_audio)"
      ]
    },
    {
      "cell_type": "code",
      "execution_count": 15,
      "metadata": {
        "id": "tUcxtfHXY7XS",
        "colab": {
          "base_uri": "https://localhost:8080/"
        },
        "outputId": "d4830921-3dd1-4515-9eb7-cbbab872e4f2"
      },
      "outputs": [
        {
          "output_type": "stream",
          "name": "stdout",
          "text": [
            "INFO:tensorflow:Checkpoints are stored in /tmp/tmpzwg2n5os\n",
            "Downloading data from https://storage.googleapis.com/tfjs-models/tfjs/speech-commands/conversion/sc_preproc_model.tar.gz\n",
            "24576/18467 [=======================================] - 0s 0us/step\n",
            "32768/18467 [=====================================================] - 0s 0us/step\n",
            "WARNING:tensorflow:SavedModel saved prior to TF 2.5 detected when loading Keras model. Please ensure that you are saving the model with model.save() or tf.keras.models.save_model(), *NOT* tf.saved_model.save(). To confirm, there should be a file named \"keras_metadata.pb\" in the SavedModel directory.\n",
            "WARNING:tensorflow:No training configuration found in save file, so the model was *not* compiled. Compile it manually.\n",
            "Downloading data from https://storage.googleapis.com/tfjs-models/tfjs/speech-commands/v0.3/browser_fft/18w/metadata.json\n",
            "16384/203 [=====================================================================================================================================================================================================================================================================================================================================================================================================================================================================================================================================================================================================================================================================================================================================================================================================================================================================================================================================================================================================================================================================================================================================================================================================================================================================================================================================================================================================================================================================================================================================================================================================================================================================================================================================================================================================================================================================================================================================================================================================================================================================================================================================================================================================================================================================================================================================================================================================================================================================================================================] - 0s 0us/step\n",
            "Downloading data from https://storage.googleapis.com/tfjs-models/tfjs/speech-commands/v0.3/browser_fft/18w/model.json\n",
            "16384/5466 [=========================================================================================] - 0s 0us/step\n",
            "Downloading data from https://storage.googleapis.com/tfjs-models/tfjs/speech-commands/v0.3/browser_fft/18w/group1-shard1of2\n",
            "4194304/4194304 [==============================] - 0s 0us/step\n",
            "4202496/4194304 [==============================] - 0s 0us/step\n",
            "Downloading data from https://storage.googleapis.com/tfjs-models/tfjs/speech-commands/v0.3/browser_fft/18w/group1-shard2of2\n",
            "1687552/1680432 [==============================] - 0s 0us/step\n",
            "1695744/1680432 [==============================] - 0s 0us/step\n"
          ]
        }
      ],
      "source": [
        "# Se instancia el modelo BRrowserFtfSpec para reentrenarlo con el dataser ajustado\n",
        "spec = audio_classifier.BrowserFftSpec()"
      ]
    },
    {
      "cell_type": "code",
      "execution_count": 16,
      "metadata": {
        "cellView": "code",
        "id": "e86Ej-ZmuCzy"
      },
      "outputs": [],
      "source": [
        "# Split en del dataset\n",
        "if use_custom_dataset:\n",
        "  train_data_ratio = 0.8\n",
        "  train_data = audio_classifier.DataLoader.from_folder(\n",
        "      spec, dataset_dir, cache=True)\n",
        "  train_data, validation_data = train_data.split(train_data_ratio)\n",
        "  test_data = audio_classifier.DataLoader.from_folder(\n",
        "      spec, test_dir, cache=True)\n"
      ]
    },
    {
      "cell_type": "code",
      "execution_count": 17,
      "metadata": {
        "id": "GYaZvaOPgLUC",
        "colab": {
          "base_uri": "https://localhost:8080/"
        },
        "outputId": "5b3df252-0086-4e46-d779-a47fb606f117"
      },
      "outputs": [
        {
          "output_type": "stream",
          "name": "stdout",
          "text": [
            "Model: \"sequential_1\"\n",
            "_________________________________________________________________\n",
            " Layer (type)                Output Shape              Param #   \n",
            "=================================================================\n",
            " conv2d_1 (Conv2D)           (None, 42, 225, 8)        136       \n",
            "                                                                 \n",
            " max_pooling2d_1 (MaxPooling  (None, 21, 112, 8)       0         \n",
            " 2D)                                                             \n",
            "                                                                 \n",
            " conv2d_2 (Conv2D)           (None, 20, 109, 32)       2080      \n",
            "                                                                 \n",
            " max_pooling2d_2 (MaxPooling  (None, 10, 54, 32)       0         \n",
            " 2D)                                                             \n",
            "                                                                 \n",
            " conv2d_3 (Conv2D)           (None, 9, 51, 32)         8224      \n",
            "                                                                 \n",
            " max_pooling2d_3 (MaxPooling  (None, 4, 25, 32)        0         \n",
            " 2D)                                                             \n",
            "                                                                 \n",
            " conv2d_4 (Conv2D)           (None, 3, 22, 32)         8224      \n",
            "                                                                 \n",
            " max_pooling2d_4 (MaxPooling  (None, 2, 11, 32)        0         \n",
            " 2D)                                                             \n",
            "                                                                 \n",
            " flatten_1 (Flatten)         (None, 704)               0         \n",
            "                                                                 \n",
            " dropout_1 (Dropout)         (None, 704)               0         \n",
            "                                                                 \n",
            " dense_1 (Dense)             (None, 2000)              1410000   \n",
            "                                                                 \n",
            " dropout_2 (Dropout)         (None, 2000)              0         \n",
            "                                                                 \n",
            " classification_head (Dense)  (None, 6)                12006     \n",
            "                                                                 \n",
            "=================================================================\n",
            "Total params: 1,440,670\n",
            "Trainable params: 12,006\n",
            "Non-trainable params: 1,428,664\n",
            "_________________________________________________________________\n",
            "Epoch 1/45\n",
            "92/92 [==============================] - 34s 233ms/step - loss: 0.7396 - acc: 0.8279 - val_loss: 0.0810 - val_acc: 0.9889\n",
            "Epoch 2/45\n",
            "92/92 [==============================] - 1s 7ms/step - loss: 0.0847 - acc: 0.9727 - val_loss: 0.0560 - val_acc: 0.9889\n",
            "Epoch 3/45\n",
            "92/92 [==============================] - 1s 7ms/step - loss: 0.0646 - acc: 0.9809 - val_loss: 0.0520 - val_acc: 0.9889\n",
            "Epoch 4/45\n",
            "92/92 [==============================] - 1s 6ms/step - loss: 0.0250 - acc: 0.9973 - val_loss: 0.0465 - val_acc: 0.9889\n",
            "Epoch 5/45\n",
            "92/92 [==============================] - 1s 6ms/step - loss: 0.0126 - acc: 1.0000 - val_loss: 0.0495 - val_acc: 0.9889\n",
            "Epoch 6/45\n",
            "92/92 [==============================] - 1s 6ms/step - loss: 0.0131 - acc: 0.9973 - val_loss: 0.0418 - val_acc: 0.9889\n",
            "Epoch 7/45\n",
            "92/92 [==============================] - 1s 7ms/step - loss: 0.0147 - acc: 0.9918 - val_loss: 0.0376 - val_acc: 0.9889\n",
            "Epoch 8/45\n",
            "92/92 [==============================] - 1s 6ms/step - loss: 0.0067 - acc: 1.0000 - val_loss: 0.0349 - val_acc: 0.9889\n",
            "Epoch 9/45\n",
            "92/92 [==============================] - 1s 6ms/step - loss: 0.0036 - acc: 1.0000 - val_loss: 0.0342 - val_acc: 0.9889\n",
            "Epoch 10/45\n",
            "92/92 [==============================] - 1s 6ms/step - loss: 0.0098 - acc: 0.9973 - val_loss: 0.0350 - val_acc: 0.9889\n",
            "Epoch 11/45\n",
            "92/92 [==============================] - 1s 6ms/step - loss: 0.0020 - acc: 1.0000 - val_loss: 0.0351 - val_acc: 0.9889\n",
            "Epoch 12/45\n",
            "92/92 [==============================] - 1s 6ms/step - loss: 0.0016 - acc: 1.0000 - val_loss: 0.0339 - val_acc: 0.9889\n",
            "Epoch 13/45\n",
            "92/92 [==============================] - 1s 7ms/step - loss: 0.0025 - acc: 1.0000 - val_loss: 0.0317 - val_acc: 0.9889\n",
            "Epoch 14/45\n",
            "92/92 [==============================] - 1s 7ms/step - loss: 0.0013 - acc: 1.0000 - val_loss: 0.0313 - val_acc: 0.9889\n",
            "Epoch 15/45\n",
            "92/92 [==============================] - 1s 6ms/step - loss: 0.0053 - acc: 0.9973 - val_loss: 0.0289 - val_acc: 0.9889\n",
            "Epoch 16/45\n",
            "92/92 [==============================] - 1s 6ms/step - loss: 0.0015 - acc: 1.0000 - val_loss: 0.0243 - val_acc: 0.9889\n",
            "Epoch 17/45\n",
            "92/92 [==============================] - 1s 7ms/step - loss: 0.0020 - acc: 1.0000 - val_loss: 0.0189 - val_acc: 0.9889\n",
            "Epoch 18/45\n",
            "92/92 [==============================] - 1s 6ms/step - loss: 0.0023 - acc: 1.0000 - val_loss: 0.0245 - val_acc: 0.9889\n",
            "Epoch 19/45\n",
            "92/92 [==============================] - 1s 7ms/step - loss: 0.0015 - acc: 1.0000 - val_loss: 0.0252 - val_acc: 0.9889\n",
            "Epoch 20/45\n",
            "92/92 [==============================] - 1s 7ms/step - loss: 0.0014 - acc: 1.0000 - val_loss: 0.0275 - val_acc: 0.9889\n",
            "Epoch 21/45\n",
            "92/92 [==============================] - 1s 7ms/step - loss: 5.8408e-04 - acc: 1.0000 - val_loss: 0.0274 - val_acc: 0.9889\n",
            "Epoch 22/45\n",
            "92/92 [==============================] - 1s 7ms/step - loss: 8.4205e-04 - acc: 1.0000 - val_loss: 0.0287 - val_acc: 0.9889\n",
            "Epoch 23/45\n",
            "92/92 [==============================] - 1s 6ms/step - loss: 7.0761e-04 - acc: 1.0000 - val_loss: 0.0282 - val_acc: 0.9889\n",
            "Epoch 24/45\n",
            "92/92 [==============================] - 1s 6ms/step - loss: 7.4110e-04 - acc: 1.0000 - val_loss: 0.0253 - val_acc: 0.9889\n",
            "Epoch 25/45\n",
            "92/92 [==============================] - 1s 6ms/step - loss: 2.6790e-04 - acc: 1.0000 - val_loss: 0.0258 - val_acc: 0.9889\n",
            "Epoch 26/45\n",
            "92/92 [==============================] - 1s 7ms/step - loss: 0.0011 - acc: 1.0000 - val_loss: 0.0290 - val_acc: 0.9889\n",
            "Epoch 27/45\n",
            "92/92 [==============================] - 1s 6ms/step - loss: 4.7886e-04 - acc: 1.0000 - val_loss: 0.0272 - val_acc: 0.9889\n",
            "Epoch 28/45\n",
            "92/92 [==============================] - 1s 7ms/step - loss: 0.0013 - acc: 1.0000 - val_loss: 0.0271 - val_acc: 0.9889\n",
            "Epoch 29/45\n",
            "92/92 [==============================] - 1s 6ms/step - loss: 0.0027 - acc: 1.0000 - val_loss: 0.0326 - val_acc: 0.9889\n",
            "Epoch 30/45\n",
            "92/92 [==============================] - 1s 9ms/step - loss: 5.5959e-04 - acc: 1.0000 - val_loss: 0.0309 - val_acc: 0.9889\n",
            "Epoch 31/45\n",
            "92/92 [==============================] - 1s 6ms/step - loss: 0.0015 - acc: 1.0000 - val_loss: 0.0292 - val_acc: 0.9889\n",
            "Epoch 32/45\n",
            "92/92 [==============================] - 1s 7ms/step - loss: 4.3658e-04 - acc: 1.0000 - val_loss: 0.0282 - val_acc: 0.9889\n",
            "Epoch 33/45\n",
            "92/92 [==============================] - 1s 6ms/step - loss: 0.0015 - acc: 1.0000 - val_loss: 0.0293 - val_acc: 0.9889\n",
            "Epoch 34/45\n",
            "92/92 [==============================] - 1s 6ms/step - loss: 0.0011 - acc: 1.0000 - val_loss: 0.0249 - val_acc: 0.9889\n",
            "Epoch 35/45\n",
            "92/92 [==============================] - 1s 7ms/step - loss: 8.4417e-04 - acc: 1.0000 - val_loss: 0.0317 - val_acc: 0.9889\n",
            "Epoch 36/45\n",
            "92/92 [==============================] - 1s 7ms/step - loss: 0.0069 - acc: 0.9973 - val_loss: 0.0354 - val_acc: 0.9889\n",
            "Epoch 37/45\n",
            "92/92 [==============================] - 1s 6ms/step - loss: 0.0014 - acc: 1.0000 - val_loss: 0.0244 - val_acc: 0.9889\n",
            "Epoch 38/45\n",
            "92/92 [==============================] - 1s 6ms/step - loss: 2.9180e-04 - acc: 1.0000 - val_loss: 0.0220 - val_acc: 0.9889\n",
            "Epoch 39/45\n",
            "92/92 [==============================] - 1s 6ms/step - loss: 2.1844e-04 - acc: 1.0000 - val_loss: 0.0222 - val_acc: 0.9889\n",
            "Epoch 40/45\n",
            "92/92 [==============================] - 1s 6ms/step - loss: 3.4629e-04 - acc: 1.0000 - val_loss: 0.0194 - val_acc: 0.9889\n",
            "Epoch 41/45\n",
            "92/92 [==============================] - 1s 7ms/step - loss: 1.3896e-04 - acc: 1.0000 - val_loss: 0.0191 - val_acc: 0.9889\n",
            "Epoch 42/45\n",
            "92/92 [==============================] - 1s 10ms/step - loss: 2.4452e-04 - acc: 1.0000 - val_loss: 0.0187 - val_acc: 0.9889\n",
            "Epoch 43/45\n",
            "92/92 [==============================] - 1s 10ms/step - loss: 1.7419e-04 - acc: 1.0000 - val_loss: 0.0211 - val_acc: 0.9889\n",
            "Epoch 44/45\n",
            "92/92 [==============================] - 1s 6ms/step - loss: 1.3795e-04 - acc: 1.0000 - val_loss: 0.0217 - val_acc: 0.9889\n",
            "Epoch 45/45\n",
            "92/92 [==============================] - 1s 6ms/step - loss: 2.9978e-04 - acc: 1.0000 - val_loss: 0.0214 - val_acc: 0.9889\n"
          ]
        }
      ],
      "source": [
        "# Definición de tamaño de lote, epocas y entrenamiento del modelo\n",
        "batch_size = 4\n",
        "epochs = 45\n",
        "model = audio_classifier.create(train_data, spec, validation_data, batch_size, epochs)"
      ]
    },
    {
      "cell_type": "code",
      "execution_count": 18,
      "metadata": {
        "id": "n_4MGpzhWVhr",
        "colab": {
          "base_uri": "https://localhost:8080/"
        },
        "outputId": "069121ae-b065-4e8f-b41d-24dc98b4f333"
      },
      "outputs": [
        {
          "output_type": "stream",
          "name": "stdout",
          "text": [
            "4/4 [==============================] - 5s 1s/step - loss: 0.0153 - acc: 0.9912\n"
          ]
        },
        {
          "output_type": "execute_result",
          "data": {
            "text/plain": [
              "[0.015295338816940784, 0.991150438785553]"
            ]
          },
          "metadata": {},
          "execution_count": 18
        }
      ],
      "source": [
        "# Evaluación del modelo entrenado\n",
        "model.evaluate(test_data)"
      ]
    },
    {
      "cell_type": "code",
      "execution_count": 19,
      "metadata": {
        "id": "zqB3c0368iH3",
        "colab": {
          "base_uri": "https://localhost:8080/",
          "height": 410
        },
        "outputId": "60e1ce44-7b69-4f83-da46-27aef35ab75e"
      },
      "outputs": [
        {
          "output_type": "display_data",
          "data": {
            "text/plain": [
              "<Figure size 432x432 with 1 Axes>"
            ],
            "image/png": "[encoded data removed]"
          },
          "metadata": {}
        }
      ],
      "source": [
        "# Metodo para mostrar la matriz de confusión\n",
        "def show_confusion_matrix(confusion, test_labels):\n",
        "  \"\"\"Compute confusion matrix and normalize.\"\"\"\n",
        "  confusion_normalized = confusion.astype(\"float\") / confusion.sum(axis=1)\n",
        "  sns.set(rc = {'figure.figsize':(6,6)})\n",
        "  sns.heatmap(\n",
        "      confusion_normalized, xticklabels=test_labels, yticklabels=test_labels,\n",
        "      cmap='Blues', annot=True, fmt='.2f', square=True, cbar=False)\n",
        "  plt.title(\"Confusion matrix\")\n",
        "  plt.ylabel(\"True label\")\n",
        "  plt.xlabel(\"Predicted label\")\n",
        "\n",
        "confusion_matrix = model.confusion_matrix(test_data)\n",
        "show_confusion_matrix(confusion_matrix.numpy(), test_data.index_to_label)"
      ]
    },
    {
      "cell_type": "code",
      "execution_count": 20,
      "metadata": {
        "id": "4gEf59NfGWjq"
      },
      "outputs": [],
      "source": [
        "# Guardar modelo TFLite\n",
        "TFLITE_FILENAME = 'browserfft-speech.tflite'\n",
        "SAVE_PATH = './models'"
      ]
    },
    {
      "cell_type": "code",
      "execution_count": 21,
      "metadata": {
        "id": "Xw_ehPxAdQlz",
        "colab": {
          "base_uri": "https://localhost:8080/"
        },
        "outputId": "fa48c984-8208-4d2c-824f-0bb8a9458baa"
      },
      "outputs": [
        {
          "output_type": "stream",
          "name": "stdout",
          "text": [
            "Exporing the model to ./models\n",
            "INFO:tensorflow:Assets written to: /tmp/tmphx9kql1p/assets\n",
            "INFO:tensorflow:TensorFlow Lite model exported successfully: ./models/browserfft-speech.tflite\n"
          ]
        },
        {
          "output_type": "stream",
          "name": "stderr",
          "text": [
            "INFO:tensorflow:TensorFlow Lite model exported successfully: ./models/browserfft-speech.tflite\n"
          ]
        },
        {
          "output_type": "stream",
          "name": "stdout",
          "text": [
            "WARNING:tensorflow:Compiled the loaded model, but the compiled metrics have yet to be built. `model.compile_metrics` will be empty until you train or evaluate the model.\n"
          ]
        },
        {
          "output_type": "stream",
          "name": "stderr",
          "text": [
            "WARNING:tensorflow:Compiled the loaded model, but the compiled metrics have yet to be built. `model.compile_metrics` will be empty until you train or evaluate the model.\n"
          ]
        },
        {
          "output_type": "stream",
          "name": "stdout",
          "text": [
            "INFO:tensorflow:Assets written to: ./models/saved_model/assets\n"
          ]
        },
        {
          "output_type": "stream",
          "name": "stderr",
          "text": [
            "INFO:tensorflow:Assets written to: ./models/saved_model/assets\n"
          ]
        },
        {
          "output_type": "stream",
          "name": "stdout",
          "text": [
            "INFO:tensorflow:Saving labels in ./models/labels.txt\n"
          ]
        },
        {
          "output_type": "stream",
          "name": "stderr",
          "text": [
            "INFO:tensorflow:Saving labels in ./models/labels.txt\n"
          ]
        }
      ],
      "source": [
        "# Exportando Modelo\n",
        "print(f'Exporing the model to {SAVE_PATH}')\n",
        "model.export(SAVE_PATH, tflite_filename=TFLITE_FILENAME)\n",
        "model.export(SAVE_PATH, export_format=[mm.ExportFormat.SAVED_MODEL, mm.ExportFormat.LABEL])"
      ]
    },
    {
      "cell_type": "code",
      "execution_count": 22,
      "metadata": {
        "id": "nR5zV53YbCIQ"
      },
      "outputs": [],
      "source": [
        "! pip install -q tflite_support"
      ]
    },
    {
      "cell_type": "code",
      "execution_count": 23,
      "metadata": {
        "id": "1AC7PRyiayU5"
      },
      "outputs": [],
      "source": [
        "from tflite_support import metadata\n",
        "import json\n",
        "\n",
        "def get_labels(model):\n",
        "  \"\"\"Returns a list of labels, extracted from the model metadata.\"\"\"\n",
        "  displayer = metadata.MetadataDisplayer.with_model_file(model)\n",
        "  labels_file = displayer.get_packed_associated_file_list()[0]\n",
        "  labels = displayer.get_associated_file_buffer(labels_file).decode()\n",
        "  return [line for line in labels.split('\\n')]\n",
        "\n",
        "def get_input_sample_rate(model):\n",
        "  \"\"\"Returns the model's expected sample rate, from the model metadata.\"\"\"\n",
        "  displayer = metadata.MetadataDisplayer.with_model_file(model)\n",
        "  metadata_json = json.loads(displayer.get_metadata_json())\n",
        "  input_tensor_metadata = metadata_json['subgraph_metadata'][0][\n",
        "          'input_tensor_metadata'][0]\n",
        "  input_content_props = input_tensor_metadata['content']['content_properties']\n",
        "  return input_content_props['sample_rate']"
      ]
    },
    {
      "cell_type": "code",
      "execution_count": 25,
      "metadata": {
        "id": "loU6PleipSPf",
        "colab": {
          "base_uri": "https://localhost:8080/"
        },
        "outputId": "d7747024-89e0-4473-a354-dcf761c78a5e"
      },
      "outputs": [
        {
          "output_type": "stream",
          "name": "stdout",
          "text": [
            "---prediction---\n",
            "Class: background\n",
            "Score: 1.0\n",
            "----truth----\n"
          ]
        }
      ],
      "source": [
        "# Inferencia del modelo TFLite\n",
        "tflite_file = os.path.join(SAVE_PATH, TFLITE_FILENAME)\n",
        "labels = get_labels(tflite_file)\n",
        "random_audio = get_random_audio_file(test_dir)\n",
        "\n",
        "# Comprobación de que el audio satisface el modelo\n",
        "interpreter = tf.lite.Interpreter(tflite_file)\n",
        "input_details = interpreter.get_input_details()\n",
        "output_details = interpreter.get_output_details()\n",
        "input_size = input_details[0]['shape'][1]\n",
        "sample_rate = get_input_sample_rate(tflite_file)\n",
        "audio_data, _ = librosa.load(random_audio, sr=sample_rate)\n",
        "if len(audio_data) < input_size:\n",
        "  audio_data.resize(input_size)\n",
        "audio_data = np.expand_dims(audio_data[:input_size], axis=0)\n",
        "\n",
        "# Ejecutar inferencia\n",
        "interpreter.allocate_tensors()\n",
        "interpreter.set_tensor(input_details[0]['index'], audio_data)\n",
        "interpreter.invoke()\n",
        "output_data = interpreter.get_tensor(output_details[0]['index'])\n",
        "\n",
        "# Desplegar la predicción y precisión\n",
        "top_index = np.argmax(output_data[0])\n",
        "label = labels[top_index]\n",
        "score = output_data[0][top_index]\n",
        "print('---prediction---')\n",
        "print(f'Class: {label}\\nScore: {score}')\n",
        "print('----truth----')"
      ]
    },
    {
      "cell_type": "code",
      "execution_count": 26,
      "metadata": {
        "id": "cNuQoqtjG4zu",
        "colab": {
          "base_uri": "https://localhost:8080/",
          "height": 17
        },
        "outputId": "92c924a9-aa46-4475-fc1c-5650bb26cc66"
      },
      "outputs": [
        {
          "output_type": "display_data",
          "data": {
            "text/plain": [
              "<IPython.core.display.Javascript object>"
            ],
            "application/javascript": [
              "\n",
              "    async function download(id, filename, size) {\n",
              "      if (!google.colab.kernel.accessAllowed) {\n",
              "        return;\n",
              "      }\n",
              "      const div = document.createElement('div');\n",
              "      const label = document.createElement('label');\n",
              "      label.textContent = `Downloading \"${filename}\": `;\n",
              "      div.appendChild(label);\n",
              "      const progress = document.createElement('progress');\n",
              "      progress.max = size;\n",
              "      div.appendChild(progress);\n",
              "      document.body.appendChild(div);\n",
              "\n",
              "      const buffers = [];\n",
              "      let downloaded = 0;\n",
              "\n",
              "      const channel = await google.colab.kernel.comms.open(id);\n",
              "      // Send a message to notify the kernel that we're ready.\n",
              "      channel.send({})\n",
              "\n",
              "      for await (const message of channel.messages) {\n",
              "        // Send a message to notify the kernel that we're ready.\n",
              "        channel.send({})\n",
              "        if (message.buffers) {\n",
              "          for (const buffer of message.buffers) {\n",
              "            buffers.push(buffer);\n",
              "            downloaded += buffer.byteLength;\n",
              "            progress.value = downloaded;\n",
              "          }\n",
              "        }\n",
              "      }\n",
              "      const blob = new Blob(buffers, {type: 'application/binary'});\n",
              "      const a = document.createElement('a');\n",
              "      a.href = window.URL.createObjectURL(blob);\n",
              "      a.download = filename;\n",
              "      div.appendChild(a);\n",
              "      a.click();\n",
              "      div.remove();\n",
              "    }\n",
              "  "
            ]
          },
          "metadata": {}
        },
        {
          "output_type": "display_data",
          "data": {
            "text/plain": [
              "<IPython.core.display.Javascript object>"
            ],
            "application/javascript": [
              "download(\"download_8ee65c42-cc68-4acd-b59e-2d05f7481936\", \"browserfft-speech.tflite\", 5790450)"
            ]
          },
          "metadata": {}
        }
      ],
      "source": [
        "# Descargar modelo\n",
        "try:\n",
        "  from google.colab import files\n",
        "except ImportError:\n",
        "  pass\n",
        "else:\n",
        "  files.download(tflite_file)"
      ]
    }
  ],
  "metadata": {
    "accelerator": "GPU",
    "colab": {
      "collapsed_sections": [],
      "name": "MP3_IADispositivosMoviles",
      "provenance": []
    },
    "kernelspec": {
      "display_name": "Python 3",
      "name": "python3"
    }
  },
  "nbformat": 4,
  "nbformat_minor": 0
}